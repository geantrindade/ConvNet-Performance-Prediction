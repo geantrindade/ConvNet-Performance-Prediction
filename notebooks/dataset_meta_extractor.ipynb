{
  "nbformat": 4,
  "nbformat_minor": 0,
  "metadata": {
    "colab": {
      "name": "dataset_meta_extractor.ipynb",
      "provenance": [],
      "collapsed_sections": [
        "7IbUDHmMeI_I"
      ],
      "toc_visible": true,
      "machine_shape": "hm",
      "include_colab_link": true
    },
    "kernelspec": {
      "name": "python3",
      "display_name": "Python 3"
    }
  },
  "cells": [
    {
      "cell_type": "markdown",
      "metadata": {
        "id": "view-in-github",
        "colab_type": "text"
      },
      "source": [
        "<a href=\"https://colab.research.google.com/github/geantrindade/ConvNet-Performance-Prediction/blob/master/notebooks/dataset_meta_extractor.ipynb\" target=\"_parent\"><img src=\"https://colab.research.google.com/assets/colab-badge.svg\" alt=\"Open In Colab\"/></a>"
      ]
    },
    {
      "cell_type": "markdown",
      "metadata": {
        "id": "OOz7ZBElGqwE",
        "colab_type": "text"
      },
      "source": [
        "# **Imports**"
      ]
    },
    {
      "cell_type": "code",
      "metadata": {
        "id": "Vmgx978ni4sQ",
        "colab_type": "code",
        "outputId": "160072bb-20f9-459e-e0c4-ecb7e215ad22",
        "colab": {
          "base_uri": "https://localhost:8080/",
          "height": 238
        }
      },
      "source": [
        "!pip install -U pymfe\n",
        "\n",
        "from pymfe.mfe import MFE\n",
        "import datetime\n",
        "\n",
        "import numpy as np\n",
        "from numpy import savez_compressed\n",
        "from numpy import load\n",
        "\n",
        "import torch\n",
        "from torch.utils.data import DataLoader\n",
        "from torchvision.datasets import MNIST\n",
        "from torchvision.transforms import Compose, ToTensor, Normalize\n",
        "\n",
        "import pandas as pd\n",
        "import matplotlib.pyplot as plt"
      ],
      "execution_count": 3,
      "outputs": [
        {
          "output_type": "stream",
          "text": [
            "Requirement already up-to-date: pymfe in /usr/local/lib/python3.6/dist-packages (0.2.0)\n",
            "Requirement already satisfied, skipping upgrade: numpy in /usr/local/lib/python3.6/dist-packages (from pymfe) (1.18.3)\n",
            "Requirement already satisfied, skipping upgrade: pandas in /usr/local/lib/python3.6/dist-packages (from pymfe) (1.0.3)\n",
            "Requirement already satisfied, skipping upgrade: texttable in /usr/local/lib/python3.6/dist-packages (from pymfe) (1.6.2)\n",
            "Requirement already satisfied, skipping upgrade: statsmodels in /usr/local/lib/python3.6/dist-packages (from pymfe) (0.10.2)\n",
            "Requirement already satisfied, skipping upgrade: patsy in /usr/local/lib/python3.6/dist-packages (from pymfe) (0.5.1)\n",
            "Requirement already satisfied, skipping upgrade: sklearn in /usr/local/lib/python3.6/dist-packages (from pymfe) (0.0)\n",
            "Requirement already satisfied, skipping upgrade: scipy in /usr/local/lib/python3.6/dist-packages (from pymfe) (1.4.1)\n",
            "Requirement already satisfied, skipping upgrade: pytz>=2017.2 in /usr/local/lib/python3.6/dist-packages (from pandas->pymfe) (2018.9)\n",
            "Requirement already satisfied, skipping upgrade: python-dateutil>=2.6.1 in /usr/local/lib/python3.6/dist-packages (from pandas->pymfe) (2.8.1)\n",
            "Requirement already satisfied, skipping upgrade: six in /usr/local/lib/python3.6/dist-packages (from patsy->pymfe) (1.12.0)\n",
            "Requirement already satisfied, skipping upgrade: scikit-learn in /usr/local/lib/python3.6/dist-packages (from sklearn->pymfe) (0.22.2.post1)\n",
            "Requirement already satisfied, skipping upgrade: joblib>=0.11 in /usr/local/lib/python3.6/dist-packages (from scikit-learn->sklearn->pymfe) (0.14.1)\n"
          ],
          "name": "stdout"
        }
      ]
    },
    {
      "cell_type": "markdown",
      "metadata": {
        "id": "FYF8Y87nGusU",
        "colab_type": "text"
      },
      "source": [
        "# **Load and pre-process data**\n",
        "\n",
        "---\n",
        "\n"
      ]
    },
    {
      "cell_type": "code",
      "metadata": {
        "id": "vdqwKqeD4Du2",
        "colab_type": "code",
        "colab": {}
      },
      "source": [
        "def get_data_loaders(train_batch_size, test_batch_size):\n",
        "    mnist = MNIST(download=True, train=True, root=\".\").data.float()\n",
        "    \n",
        "    data_transform = Compose([ToTensor(), Normalize((mnist.mean()/255,), (mnist.std()/255,))])\n",
        "    #data_transform = Compose([ToTensor(), Normalize((0.5,), (0.5,))])\n",
        "\n",
        "    train_loader = DataLoader(MNIST(download=True, root=\".\", transform=data_transform, train=True),\n",
        "                              batch_size=train_batch_size, shuffle=True)\n",
        "\n",
        "    test_loader = DataLoader(MNIST(download=True, root=\".\", transform=data_transform, train=False),\n",
        "                            batch_size=test_batch_size, shuffle=False)\n",
        "    \n",
        "    return train_loader, test_loader"
      ],
      "execution_count": 0,
      "outputs": []
    },
    {
      "cell_type": "code",
      "metadata": {
        "id": "2h476abi4TdI",
        "colab_type": "code",
        "colab": {}
      },
      "source": [
        "train_loader, test_loader = get_data_loaders(60000, 10000)\n",
        "\n",
        "mnist_batch_train = next(iter(train_loader))\n",
        "mnist_batch_test = next(iter(test_loader))\n",
        "\n",
        "whole_mnist_X = torch.cat((mnist_batch_train[0], mnist_batch_test[0]), 0) \n",
        "whole_mnist_Y = torch.cat((mnist_batch_train[1], mnist_batch_test[1]), 0)"
      ],
      "execution_count": 0,
      "outputs": []
    },
    {
      "cell_type": "code",
      "metadata": {
        "id": "y5TCI_oAWDvu",
        "colab_type": "code",
        "colab": {}
      },
      "source": [
        "np_mnist_batch_train_X = mnist_batch_train[0].numpy()\n",
        "np_mnist_batch_train_Y = mnist_batch_train[1].numpy()\n",
        "\n",
        "np_mnist_batch_test_X = mnist_batch_test[0].numpy()\n",
        "np_mnist_batch_test_Y = mnist_batch_test[1].numpy()\n",
        "\n",
        "np_whole_mnist_X = whole_mnist_X.numpy()\n",
        "np_whole_mnist_Y = whole_mnist_Y.numpy() "
      ],
      "execution_count": 0,
      "outputs": []
    },
    {
      "cell_type": "code",
      "metadata": {
        "id": "tRT-oUTBffXA",
        "colab_type": "code",
        "colab": {}
      },
      "source": [
        "#flat pixels\n",
        "\n",
        "np_mnist_batch_train_X = np_mnist_batch_train_X.reshape((np_mnist_batch_train_X.shape[0], np_mnist_batch_train_X.shape[2] * np_mnist_batch_train_X.shape[3]))\n",
        "np_mnist_batch_test_X = np_mnist_batch_test_X.reshape((np_mnist_batch_test_X.shape[0], np_mnist_batch_test_X.shape[2] * np_mnist_batch_test_X.shape[3]))\n",
        "\n",
        "np_whole_mnist_X = np_whole_mnist_X.reshape((np_whole_mnist_X.shape[0], np_whole_mnist_X.shape[2] * np_whole_mnist_X.shape[3]))"
      ],
      "execution_count": 0,
      "outputs": []
    },
    {
      "cell_type": "markdown",
      "metadata": {
        "id": "COrk73gUG6Rw",
        "colab_type": "text"
      },
      "source": [
        "# **Meta-Feature extraction**"
      ]
    },
    {
      "cell_type": "code",
      "metadata": {
        "id": "lWuslJr9XUP5",
        "colab_type": "code",
        "colab": {}
      },
      "source": [
        "def extract_meta_features(pymfe_obj, X_data, Y_data) -> tuple:\n",
        "  pymfe_obj.fit(X_data, Y_data)\n",
        "  \n",
        "  begin_t = datetime.datetime.now()\n",
        "  meta_features = pymfe_obj.extract()\n",
        "  end_t = datetime.datetime.now()\n",
        "\n",
        "  print(\"\\n\\nmeta-extraction total time: \", end_t - begin_t, \"\\n\")\n",
        "\n",
        "  return meta_features\n",
        "\n",
        "def print_meta_features(meta_features : tuple):\n",
        "  print(\"\\n\".join(\"{:30} {:30} {:30}\".format(x, y, z) for x, y, z in zip(meta_features[0], meta_features[1], meta_features[2])))\n",
        "  print(\"\\nnumber of meta-features: \", len(meta_features[0]))"
      ],
      "execution_count": 0,
      "outputs": []
    },
    {
      "cell_type": "code",
      "metadata": {
        "id": "tCIRjGLZaBeZ",
        "colab_type": "code",
        "colab": {}
      },
      "source": [
        "meta_features_sets = []"
      ],
      "execution_count": 0,
      "outputs": []
    },
    {
      "cell_type": "markdown",
      "metadata": {
        "id": "EUzQlvq6RVKQ",
        "colab_type": "text"
      },
      "source": [
        "## Version 1"
      ]
    },
    {
      "cell_type": "code",
      "metadata": {
        "id": "dvAmTSoMa9oo",
        "colab_type": "code",
        "colab": {}
      },
      "source": [
        "mfe = MFE(features=[\"attr_ent\", \"attr_to_inst\",\"can_cor\", \"class_conc\", \"class_ent\", \"cov\", \"eigenvalues\", \"eq_num_attr\", \"freq_class\", \"gravity\", \"inst_to_attr\", \n",
        "                    \"iq_range\" , \"joint_ent\", \"kurtosis\", \"mad\", \"max\", \"mean\", \"median\", \"min\", \"mut_inf\", \"nr_attr\", \"nr_bin\", \"nr_class\", \"nr_cor_attr\", \n",
        "                    \"nr_disc\", \"nr_inst\", \"nr_norm\", \"nr_num\", \"nr_outliers\", \"ns_ratio\", \"range\", \"sd\", \"skewness\", \"sparsity\", \"t_mean\", \"var\", \"w_lambda\"],\n",
        "          summary=[\"mean\", \"sd\"], \n",
        "          measure_time=\"total\")"
      ],
      "execution_count": 0,
      "outputs": []
    },
    {
      "cell_type": "code",
      "metadata": {
        "id": "IcbjeIvSXa7H",
        "colab_type": "code",
        "colab": {
          "base_uri": "https://localhost:8080/",
          "height": 1000
        },
        "outputId": "bdeaedc5-1e4f-4e52-e620-b71b03a77147"
      },
      "source": [
        "#train\n",
        "mft_train_v1 = extract_meta_features(mfe, np_mnist_batch_train_X, np_mnist_batch_train_Y)\n",
        "print_meta_features(mft_train_v1)"
      ],
      "execution_count": 28,
      "outputs": [
        {
          "output_type": "stream",
          "text": [
            "Warning: invalid value encountered in true_divide\n",
            "Warning: invalid value encountered in true_divide\n",
            "Warning: invalid value encountered in greater_equal\n",
            "Warning: Input data for shapiro has range zero. The results may not be accurate.\n"
          ],
          "name": "stderr"
        },
        {
          "output_type": "stream",
          "text": [
            "meta-extraction total time:  0:00:23.193936\n",
            "attr_ent.mean                              1.1245976686477661         1.6689300537109375e-06\n",
            "attr_ent.sd                                1.3028632402420044         1.6689300537109375e-06\n",
            "attr_to_inst                             0.013066666666666667         4.5299530029296875e-06\n",
            "can_cor.mean                               0.7489992380142212         2.6226043701171875e-06\n",
            "can_cor.sd                                0.12331559509038925         2.6226043701171875e-06\n",
            "class_conc.mean                           0.10027358680963516              13.22898554801941\n",
            "class_conc.sd                             0.13091528415679932              13.22898554801941\n",
            "class_ent                                  3.3198709267551885         1.6689300537109375e-06\n",
            "cov.mean                                  0.04092341661453247            0.00680088996887207\n",
            "cov.sd                                    0.11500980705022812            0.00680088996887207\n",
            "eigenvalues.mean                           0.7084394097328186             0.3407261371612549\n",
            "eigenvalues.sd                             3.5118978023529053             0.3407261371612549\n",
            "eq_num_attr                                 34.00769883499537              1.52587890625e-05\n",
            "freq_class.mean                           0.10000000149011612         1.1205673217773438e-05\n",
            "freq_class.sd                            0.005658420268446207         1.1205673217773438e-05\n",
            "gravity                                      15.6823148727417            0.07978487014770508\n",
            "inst_to_attr                                76.53061224489795         2.1457672119140625e-06\n",
            "iq_range.mean                               0.794175386428833             1.2543156147003174\n",
            "iq_range.sd                                1.2603280544281006             1.2543156147003174\n",
            "joint_ent.mean                              4.346847057342529          1.430511474609375e-06\n",
            "joint_ent.sd                                1.215417742729187          1.430511474609375e-06\n",
            "kurtosis.mean                                  3925.107421875             0.3350393772125244\n",
            "kurtosis.sd                                  12093.4658203125             0.3350393772125244\n",
            "mad.mean                                  0.21012574434280396             0.7387351989746094\n",
            "mad.sd                                       0.55464106798172             0.7387351989746094\n",
            "max.mean                                   2.3698384761810303           0.019304752349853516\n",
            "max.sd                                     1.0342439413070679           0.019304752349853516\n",
            "mean.mean                               5.459299063659273e-05           0.020621061325073242\n",
            "mean.sd                                    0.5403192639350891           0.020621061325073242\n",
            "median.mean                              -0.27016422152519226             0.3339223861694336\n",
            "median.sd                                  0.4189738631248474             0.3339223861694336\n",
            "min.mean                                 -0.42401933670043945           0.019382715225219727\n",
            "min.sd                                                    0.0           0.019382715225219727\n",
            "mut_inf.mean                              0.09762115776538849            1.9073486328125e-06\n",
            "mut_inf.sd                                0.10258600115776062            1.9073486328125e-06\n",
            "nr_attr                                                   784          1.430511474609375e-06\n",
            "nr_bin                                                     17             1.5642151832580566\n",
            "nr_class                                                   10            1.9073486328125e-06\n",
            "nr_cor_attr                              0.007587901060807465           0.007587909698486328\n",
            "nr_disc                                                     9         3.0994415283203125e-06\n",
            "nr_inst                                                 60000         2.1457672119140625e-06\n",
            "nr_norm                                                   136            0.13189196586608887\n",
            "nr_num                                                    784          2.384185791015625e-06\n",
            "nr_outliers                                               503             1.5109143257141113\n",
            "ns_ratio                                   10.520019248451849         1.9788742065429688e-05\n",
            "range.mean                                 2.7938575744628906           0.038641929626464844\n",
            "range.sd                                   1.0342439413070679           0.038641929626464844\n",
            "sd.mean                                    0.6271228790283203            0.09273600578308105\n",
            "sd.sd                                      0.5617461800575256            0.09273600578308105\n",
            "skewness.mean                              26.904132843017578            0.41291284561157227\n",
            "skewness.sd                                     55.5146484375            0.41291284561157227\n",
            "sparsity.mean                             0.11740937829017639             1.5498356819152832\n",
            "sparsity.sd                                0.2846902012825012             1.5498356819152832\n",
            "t_mean.mean                              -0.14730538427829742            0.42009878158569336\n",
            "t_mean.sd                                  0.4893190562725067            0.42009878158569336\n",
            "var.mean                                   0.7084394097328186             0.0929098129272461\n",
            "var.sd                                      0.806414008140564             0.0929098129272461\n",
            "w_lambda                                0.0002124981038784846         3.3855438232421875e-05\n",
            "\n",
            "number of meta-features:  58\n"
          ],
          "name": "stdout"
        }
      ]
    },
    {
      "cell_type": "code",
      "metadata": {
        "id": "iJ3228BKYhrR",
        "colab_type": "code",
        "colab": {
          "base_uri": "https://localhost:8080/",
          "height": 1000
        },
        "outputId": "c8df0b3b-cee0-4d17-e924-112f2c4678a2"
      },
      "source": [
        "#test\n",
        "mft_test_v1 = extract_meta_features(mfe, np_mnist_batch_test_X, np_mnist_batch_test_Y)\n",
        "print_meta_features(mft_test_v1)"
      ],
      "execution_count": 29,
      "outputs": [
        {
          "output_type": "stream",
          "text": [
            "Warning: It is not possible make equal discretization\n",
            "Warning: invalid value encountered in true_divide\n",
            "Warning: invalid value encountered in true_divide\n",
            "Warning: invalid value encountered in greater_equal\n",
            "Warning: Input data for shapiro has range zero. The results may not be accurate.\n"
          ],
          "name": "stderr"
        },
        {
          "output_type": "stream",
          "text": [
            "meta-extraction total time:  0:00:13.319143\n",
            "attr_ent.mean                               1.005646824836731          1.430511474609375e-06\n",
            "attr_ent.sd                                1.1747077703475952          1.430511474609375e-06\n",
            "attr_to_inst                                           0.0784         4.5299530029296875e-06\n",
            "can_cor.mean                               0.7751142382621765         2.1457672119140625e-06\n",
            "can_cor.sd                                0.10916385054588318         2.1457672119140625e-06\n",
            "class_conc.mean                           0.13889558613300323             10.103055477142334\n",
            "class_conc.sd                              0.1588108390569687             10.103055477142334\n",
            "class_ent                                  3.3194225261208263          2.384185791015625e-06\n",
            "cov.mean                                  0.04187243804335594           0.006768703460693359\n",
            "cov.sd                                    0.11806239932775497           0.006768703460693359\n",
            "eigenvalues.mean                           0.7101541757583618              0.372081995010376\n",
            "eigenvalues.sd                              3.600919008255005              0.372081995010376\n",
            "eq_num_attr                                32.230174443668005         1.5974044799804688e-05\n",
            "freq_class.mean                           0.10000000149011612         1.1205673217773438e-05\n",
            "freq_class.sd                            0.006239836569875479         1.1205673217773438e-05\n",
            "gravity                                    16.277509689331055           0.013661623001098633\n",
            "inst_to_attr                               12.755102040816327         2.1457672119140625e-06\n",
            "iq_range.mean                              0.8070048093795776            0.21701860427856445\n",
            "iq_range.sd                                1.2754442691802979            0.21701860427856445\n",
            "joint_ent.mean                              4.222078800201416            1.9073486328125e-06\n",
            "joint_ent.sd                                1.080856204032898            1.9073486328125e-06\n",
            "kurtosis.mean                               760.0972290039062             0.1735363006591797\n",
            "kurtosis.sd                                 2119.355712890625             0.1735363006591797\n",
            "mad.mean                                  0.22460350394248962            0.13487577438354492\n",
            "mad.sd                                     0.5752846002578735            0.13487577438354492\n",
            "max.mean                                    2.205300807952881           0.003371000289916992\n",
            "max.sd                                      1.212156891822815           0.003371000289916992\n",
            "mean.mean                                0.006072384770959616          0.0034728050231933594\n",
            "mean.sd                                    0.5529614686965942          0.0034728050231933594\n",
            "median.mean                              -0.25312602519989014            0.06096959114074707\n",
            "median.sd                                  0.4549782872200012            0.06096959114074707\n",
            "min.mean                                 -0.42401933670043945           0.003329038619995117\n",
            "min.sd                                                    0.0           0.003329038619995117\n",
            "mut_inf.mean                              0.10299114137887955            1.9073486328125e-06\n",
            "mut_inf.sd                                0.10970031470060349            1.9073486328125e-06\n",
            "nr_attr                                                   784         1.1920928955078125e-06\n",
            "nr_bin                                                     19            0.26213717460632324\n",
            "nr_class                                                   10         1.6689300537109375e-06\n",
            "nr_cor_attr                              0.007773607527302108           0.007424831390380859\n",
            "nr_disc                                                     9         2.6226043701171875e-06\n",
            "nr_inst                                                 10000         1.6689300537109375e-06\n",
            "nr_norm                                                   135            0.13081574440002441\n",
            "nr_num                                                    784          2.384185791015625e-06\n",
            "nr_outliers                                               453            0.24350452423095703\n",
            "ns_ratio                                     8.76440157402169         1.9788742065429688e-05\n",
            "range.mean                                 2.6293201446533203            0.00675654411315918\n",
            "range.sd                                    1.212156891822815            0.00675654411315918\n",
            "sd.mean                                    0.6245486736297607           0.017791271209716797\n",
            "sd.sd                                      0.5661287903785706           0.017791271209716797\n",
            "skewness.mean                              12.954124450683594            0.23182249069213867\n",
            "skewness.sd                                23.837629318237305            0.23182249069213867\n",
            "sparsity.mean                             0.18372632563114166            0.25491762161254883\n",
            "sparsity.sd                               0.35280004143714905            0.25491762161254883\n",
            "t_mean.mean                              -0.13535869121551514            0.07482552528381348\n",
            "t_mean.sd                                  0.5097164511680603            0.07482552528381348\n",
            "var.mean                                   0.7101540565490723           0.017612934112548828\n",
            "var.sd                                     0.8149258494377136           0.017612934112548828\n",
            "w_lambda                                9.393754475834726e-05          3.504753112792969e-05\n",
            "\n",
            "number of meta-features:  58\n"
          ],
          "name": "stdout"
        }
      ]
    },
    {
      "cell_type": "code",
      "metadata": {
        "id": "3_w-ptsfiVWe",
        "colab_type": "code",
        "colab": {
          "base_uri": "https://localhost:8080/",
          "height": 1000
        },
        "outputId": "7a28eeaa-2aaf-4bec-95b9-3af8f170430b"
      },
      "source": [
        "#whole\n",
        "mft_whole_v1 = extract_meta_features(mfe, np_whole_mnist_X, np_whole_mnist_Y)\n",
        "print_meta_features(mft_whole_v1)"
      ],
      "execution_count": 30,
      "outputs": [
        {
          "output_type": "stream",
          "text": [
            "Warning: It is not possible make equal discretization\n",
            "Warning: invalid value encountered in true_divide\n",
            "Warning: invalid value encountered in true_divide\n",
            "Warning: Casting complex values to real discards the imaginary part\n",
            "Warning: invalid value encountered in greater_equal\n",
            "Warning: Input data for shapiro has range zero. The results may not be accurate.\n"
          ],
          "name": "stderr"
        },
        {
          "output_type": "stream",
          "text": [
            "meta-extraction total time:  0:00:26.608975\n",
            "attr_ent.mean                               1.133476972579956          2.384185791015625e-06\n",
            "attr_ent.sd                                 1.313546895980835          2.384185791015625e-06\n",
            "attr_to_inst                                           0.0112         5.0067901611328125e-06\n",
            "can_cor.mean                               0.7492933869361877         1.2159347534179688e-05\n",
            "can_cor.sd                                0.12286309152841568         1.2159347534179688e-05\n",
            "class_conc.mean                           0.09878312051296234             14.703420877456665\n",
            "class_conc.sd                             0.12949182093143463             14.703420877456665\n",
            "class_ent                                   3.319837025403414         2.1457672119140625e-06\n",
            "cov.mean                                 0.041016411036252975            0.00693964958190918\n",
            "cov.sd                                    0.11539138853549957            0.00693964958190918\n",
            "eigenvalues.mean                           0.7087536454200745             0.3543703556060791\n",
            "eigenvalues.sd                              3.522831678390503             0.3543703556060791\n",
            "eq_num_attr                                33.876050133048835         2.4318695068359375e-05\n",
            "freq_class.mean                           0.09999999403953552          1.430511474609375e-05\n",
            "freq_class.sd                             0.00570451095700264          1.430511474609375e-05\n",
            "gravity                                    15.760612487792969            0.08635091781616211\n",
            "inst_to_attr                                89.28571428571429         2.6226043701171875e-06\n",
            "iq_range.mean                              0.7964035868644714             1.5242104530334473\n",
            "iq_range.sd                                1.2628525495529175             1.5242104530334473\n",
            "joint_ent.mean                              4.355314254760742         2.1457672119140625e-06\n",
            "joint_ent.sd                               1.2256087064743042         2.1457672119140625e-06\n",
            "kurtosis.mean                                4488.20556640625             0.5206964015960693\n",
            "kurtosis.sd                                   13918.755859375             0.5206964015960693\n",
            "mad.mean                                   0.2123882919549942             0.8781185150146484\n",
            "mad.sd                                     0.5579546093940735             0.8781185150146484\n",
            "max.mean                                   2.3819656372070312           0.022680997848510742\n",
            "max.sd                                     1.0262709856033325           0.022680997848510742\n",
            "mean.mean                               0.0009142816998064518           0.023938894271850586\n",
            "mean.sd                                    0.5420740842819214           0.023938894271850586\n",
            "median.mean                              -0.26787513494491577            0.39469337463378906\n",
            "median.sd                                  0.4235726594924927            0.39469337463378906\n",
            "min.mean                                 -0.42401933670043945           0.022788524627685547\n",
            "min.sd                                                    0.0           0.022788524627685547\n",
            "mut_inf.mean                              0.09799953550100327         2.6226043701171875e-06\n",
            "mut_inf.sd                                0.10317065566778183         2.6226043701171875e-06\n",
            "nr_attr                                                   784          1.430511474609375e-06\n",
            "nr_bin                                                     19              1.895608901977539\n",
            "nr_class                                                   10         1.6689300537109375e-06\n",
            "nr_cor_attr                              0.007591159068991582           0.008152961730957031\n",
            "nr_disc                                                     9         3.5762786865234375e-06\n",
            "nr_inst                                                 70000          1.430511474609375e-06\n",
            "nr_norm                                                   136              0.131605863571167\n",
            "nr_num                                                    784         2.6226043701171875e-06\n",
            "nr_outliers                                               505             1.8031251430511475\n",
            "ns_ratio                                   10.566146753703807             2.288818359375e-05\n",
            "range.mean                                 2.8059847354888916           0.046051740646362305\n",
            "range.sd                                    1.026270866394043           0.046051740646362305\n",
            "sd.mean                                    0.6269221901893616            0.11547374725341797\n",
            "sd.sd                                      0.5622503161430359            0.11547374725341797\n",
            "skewness.mean                              28.501474380493164             0.6289746761322021\n",
            "skewness.sd                                  59.4656867980957             0.6289746761322021\n",
            "sparsity.mean                             0.11460958421230316             1.8449628353118896\n",
            "sparsity.sd                                0.2815890908241272             1.8449628353118896\n",
            "t_mean.mean                               -0.1456276774406433             0.4951026439666748\n",
            "t_mean.sd                                 0.49212294816970825             0.4951026439666748\n",
            "var.mean                                   0.7087536454200745            0.11580920219421387\n",
            "var.sd                                     0.8076651692390442            0.11580920219421387\n",
            "w_lambda                               0.00021212336621935173          3.528594970703125e-05\n",
            "\n",
            "number of meta-features:  58\n"
          ],
          "name": "stdout"
        }
      ]
    },
    {
      "cell_type": "code",
      "metadata": {
        "id": "CDqh3cq4aThU",
        "colab_type": "code",
        "colab": {}
      },
      "source": [
        "meta_features_sets.append((mft_train_v1, mft_test_v1, mft_whole_v1))"
      ],
      "execution_count": 0,
      "outputs": []
    },
    {
      "cell_type": "markdown",
      "metadata": {
        "colab_type": "text",
        "id": "YE7yziYKY3Xs"
      },
      "source": [
        "## Version 2"
      ]
    },
    {
      "cell_type": "code",
      "metadata": {
        "colab_type": "code",
        "id": "WrQfAD_oY3Xu",
        "colab": {}
      },
      "source": [
        "mfe = MFE(features=[\"attr_ent\", \"attr_to_inst\",\"can_cor\", \"class_conc\", \"class_ent\", \"cov\", \"eigenvalues\", \"eq_num_attr\", \"freq_class\", \"gravity\", \"inst_to_attr\", \n",
        "                    \"iq_range\" , \"joint_ent\", \"kurtosis\", \"mad\", \"max\", \"mean\", \"median\", \"min\", \"mut_inf\", \"nr_attr\", \"nr_bin\", \"nr_class\", \"nr_cor_attr\", \n",
        "                    \"nr_disc\", \"nr_inst\", \"nr_norm\", \"nr_num\", \"nr_outliers\", \"ns_ratio\", \"range\", \"sd\", \"skewness\", \"sparsity\", \"t_mean\", \"var\", \"w_lambda\"],\n",
        "          summary=[\"mean\"], \n",
        "          measure_time=\"total\")"
      ],
      "execution_count": 0,
      "outputs": []
    },
    {
      "cell_type": "code",
      "metadata": {
        "colab_type": "code",
        "id": "W7p-D-R0Y3Xz",
        "colab": {
          "base_uri": "https://localhost:8080/",
          "height": 782
        },
        "outputId": "db7c53c9-367c-423c-beec-31a0286e1846"
      },
      "source": [
        "#train\n",
        "mft_train_v2 = extract_meta_features(mfe, np_mnist_batch_train_X, np_mnist_batch_train_Y)\n",
        "print_meta_features(mft_train_v2)"
      ],
      "execution_count": 33,
      "outputs": [
        {
          "output_type": "stream",
          "text": [
            "Warning: It is not possible make equal discretization\n",
            "Warning: invalid value encountered in true_divide\n",
            "Warning: invalid value encountered in true_divide\n",
            "Warning: invalid value encountered in greater_equal\n",
            "Warning: Input data for shapiro has range zero. The results may not be accurate.\n"
          ],
          "name": "stderr"
        },
        {
          "output_type": "stream",
          "text": [
            "meta-extraction total time:  0:00:24.332636\n",
            "attr_ent.mean                              1.1245976686477661          2.384185791015625e-06\n",
            "attr_to_inst                             0.013066666666666667            5.7220458984375e-06\n",
            "can_cor.mean                               0.7489992380142212         2.1457672119140625e-06\n",
            "class_conc.mean                           0.10027358680963516             14.494219541549683\n",
            "class_ent                                  3.3198709267551885         2.6226043701171875e-06\n",
            "cov.mean                                  0.04092341661453247           0.006888866424560547\n",
            "eigenvalues.mean                           0.7084394097328186            0.35032057762145996\n",
            "eq_num_attr                                 34.00769883499537          1.621246337890625e-05\n",
            "freq_class.mean                           0.10000000149011612         1.0728836059570312e-05\n",
            "gravity                                      15.6823148727417            0.07611894607543945\n",
            "inst_to_attr                                76.53061224489795           2.86102294921875e-06\n",
            "iq_range.mean                               0.794175386428833             1.4296083450317383\n",
            "joint_ent.mean                              4.346847057342529          1.430511474609375e-06\n",
            "kurtosis.mean                                  3925.107421875            0.33875107765197754\n",
            "mad.mean                                  0.21012574434280396              0.893305778503418\n",
            "max.mean                                   2.3698384761810303           0.019845008850097656\n",
            "mean.mean                               5.459299063659273e-05           0.020895004272460938\n",
            "median.mean                              -0.27016422152519226             0.3378152847290039\n",
            "min.mean                                 -0.42401933670043945           0.019307851791381836\n",
            "mut_inf.mean                              0.09762115776538849          1.430511474609375e-06\n",
            "nr_attr                                                   784            9.5367431640625e-07\n",
            "nr_bin                                                     17             1.5443193912506104\n",
            "nr_class                                                   10            1.9073486328125e-06\n",
            "nr_cor_attr                              0.007587901060807465           0.007605791091918945\n",
            "nr_disc                                                     9         3.0994415283203125e-06\n",
            "nr_inst                                                 60000         2.1457672119140625e-06\n",
            "nr_norm                                                   136            0.13155341148376465\n",
            "nr_num                                                    784         2.6226043701171875e-06\n",
            "nr_outliers                                               503             1.5370287895202637\n",
            "ns_ratio                                   10.520019248451849         2.0265579223632812e-05\n",
            "range.mean                                 2.7938575744628906           0.039464712142944336\n",
            "sd.mean                                    0.6271228790283203            0.09478425979614258\n",
            "skewness.mean                              26.904132843017578             0.4259374141693115\n",
            "sparsity.mean                             0.11740937829017639             1.5522823333740234\n",
            "t_mean.mean                              -0.14730538427829742             0.4200105667114258\n",
            "var.mean                                   0.7084394097328186             0.0951237678527832\n",
            "w_lambda                                0.0002124981038784846         3.7670135498046875e-05\n",
            "\n",
            "number of meta-features:  37\n"
          ],
          "name": "stdout"
        }
      ]
    },
    {
      "cell_type": "code",
      "metadata": {
        "colab_type": "code",
        "id": "bE4QsZ6bY3X3",
        "colab": {
          "base_uri": "https://localhost:8080/",
          "height": 782
        },
        "outputId": "f473fa2c-fbf8-43e4-c763-4392d83bf8ea"
      },
      "source": [
        "#test\n",
        "mft_test_v2 = extract_meta_features(mfe, np_mnist_batch_test_X, np_mnist_batch_test_Y)\n",
        "print_meta_features(mft_test_v2)"
      ],
      "execution_count": 34,
      "outputs": [
        {
          "output_type": "stream",
          "text": [
            "Warning: It is not possible make equal discretization\n",
            "Warning: invalid value encountered in true_divide\n",
            "Warning: invalid value encountered in true_divide\n",
            "Warning: invalid value encountered in greater_equal\n",
            "Warning: Input data for shapiro has range zero. The results may not be accurate.\n"
          ],
          "name": "stderr"
        },
        {
          "output_type": "stream",
          "text": [
            "meta-extraction total time:  0:00:13.387880\n",
            "attr_ent.mean                               1.005646824836731            1.9073486328125e-06\n",
            "attr_to_inst                                           0.0784             3.814697265625e-06\n",
            "can_cor.mean                               0.7751142382621765         2.1457672119140625e-06\n",
            "class_conc.mean                           0.13889558613300323             10.659376382827759\n",
            "class_ent                                  3.3194225261208263         2.1457672119140625e-06\n",
            "cov.mean                                  0.04187243804335594           0.006777524948120117\n",
            "eigenvalues.mean                           0.7101541757583618             0.3609018325805664\n",
            "eq_num_attr                                32.230174443668005         1.5497207641601562e-05\n",
            "freq_class.mean                           0.10000000149011612         1.2159347534179688e-05\n",
            "gravity                                    16.277509689331055           0.014150857925415039\n",
            "inst_to_attr                               12.755102040816327            1.9073486328125e-06\n",
            "iq_range.mean                              0.8070048093795776            0.21668410301208496\n",
            "joint_ent.mean                              4.222078800201416         1.6689300537109375e-06\n",
            "kurtosis.mean                               760.0972290039062            0.17417335510253906\n",
            "mad.mean                                  0.22460350394248962            0.14003753662109375\n",
            "max.mean                                    2.205300807952881          0.0034797191619873047\n",
            "mean.mean                                0.006072384770959616           0.003569364547729492\n",
            "median.mean                              -0.25312602519989014            0.06043720245361328\n",
            "min.mean                                 -0.42401933670043945          0.0034017562866210938\n",
            "mut_inf.mean                              0.10299114137887955            1.9073486328125e-06\n",
            "nr_attr                                                   784         1.1920928955078125e-06\n",
            "nr_bin                                                     19            0.26247501373291016\n",
            "nr_class                                                   10            1.9073486328125e-06\n",
            "nr_cor_attr                              0.007773607527302108           0.007447719573974609\n",
            "nr_disc                                                     9         4.0531158447265625e-06\n",
            "nr_inst                                                 10000            1.9073486328125e-06\n",
            "nr_norm                                                   135            0.13114213943481445\n",
            "nr_num                                                    784         2.6226043701171875e-06\n",
            "nr_outliers                                               453            0.24762344360351562\n",
            "ns_ratio                                     8.76440157402169         1.8596649169921875e-05\n",
            "range.mean                                 2.6293201446533203           0.006733417510986328\n",
            "sd.mean                                    0.6245486736297607            0.01840806007385254\n",
            "skewness.mean                              12.954124450683594            0.23214483261108398\n",
            "sparsity.mean                             0.18372632563114166             0.2590205669403076\n",
            "t_mean.mean                              -0.13535869121551514            0.07422733306884766\n",
            "var.mean                                   0.7101540565490723           0.018294334411621094\n",
            "w_lambda                                9.393754475834726e-05          3.600120544433594e-05\n",
            "\n",
            "number of meta-features:  37\n"
          ],
          "name": "stdout"
        }
      ]
    },
    {
      "cell_type": "code",
      "metadata": {
        "id": "-NBlxl3Ug4y2",
        "colab_type": "code",
        "colab": {
          "base_uri": "https://localhost:8080/",
          "height": 799
        },
        "outputId": "a405f651-9fba-4bb4-ab98-af53c70cf89b"
      },
      "source": [
        "#whole\n",
        "mft_whole_v2 = extract_meta_features(mfe, np_whole_mnist_X, np_whole_mnist_Y)\n",
        "print_meta_features(mft_whole_v2)"
      ],
      "execution_count": 35,
      "outputs": [
        {
          "output_type": "stream",
          "text": [
            "Warning: It is not possible make equal discretization\n",
            "Warning: invalid value encountered in true_divide\n",
            "Warning: invalid value encountered in true_divide\n",
            "Warning: Casting complex values to real discards the imaginary part\n",
            "Warning: invalid value encountered in greater_equal\n",
            "Warning: Input data for shapiro has range zero. The results may not be accurate.\n"
          ],
          "name": "stderr"
        },
        {
          "output_type": "stream",
          "text": [
            "meta-extraction total time:  0:00:26.425064\n",
            "attr_ent.mean                               1.133476972579956         2.1457672119140625e-06\n",
            "attr_to_inst                                           0.0112          5.245208740234375e-06\n",
            "can_cor.mean                               0.7492933869361877         2.1457672119140625e-06\n",
            "class_conc.mean                           0.09878312051296234             14.942391872406006\n",
            "class_ent                                   3.319837025403414         2.1457672119140625e-06\n",
            "cov.mean                                 0.041016411036252975          0.0071070194244384766\n",
            "eigenvalues.mean                           0.7087536454200745            0.35759806632995605\n",
            "eq_num_attr                                33.876050133048835         1.7404556274414062e-05\n",
            "freq_class.mean                           0.09999999403953552         1.4543533325195312e-05\n",
            "gravity                                    15.760612487792969            0.08436155319213867\n",
            "inst_to_attr                                89.28571428571429          2.384185791015625e-06\n",
            "iq_range.mean                              0.7964035868644714             1.4502348899841309\n",
            "joint_ent.mean                              4.355314254760742          1.430511474609375e-06\n",
            "kurtosis.mean                                4488.20556640625             0.5197985172271729\n",
            "mad.mean                                   0.2123882919549942             0.8583283424377441\n",
            "max.mean                                   2.3819656372070312           0.021603822708129883\n",
            "mean.mean                               0.0009142816998064518           0.023206472396850586\n",
            "median.mean                              -0.26787513494491577            0.38635969161987305\n",
            "min.mean                                 -0.42401933670043945           0.021247386932373047\n",
            "mut_inf.mean                              0.09799953550100327          2.384185791015625e-06\n",
            "nr_attr                                                   784          1.430511474609375e-06\n",
            "nr_bin                                                     19              2.011068105697632\n",
            "nr_class                                                   10         1.6689300537109375e-06\n",
            "nr_cor_attr                              0.007591159068991582           0.007603168487548828\n",
            "nr_disc                                                     9          3.337860107421875e-06\n",
            "nr_inst                                                 70000         1.6689300537109375e-06\n",
            "nr_norm                                                   136            0.13282418251037598\n",
            "nr_num                                                    784           2.86102294921875e-06\n",
            "nr_outliers                                               505             1.7520267963409424\n",
            "ns_ratio                                   10.566146753703807         2.0265579223632812e-05\n",
            "range.mean                                 2.8059847354888916            0.04413580894470215\n",
            "sd.mean                                    0.6269221901893616            0.11086368560791016\n",
            "skewness.mean                              28.501474380493164             0.6037435531616211\n",
            "sparsity.mean                             0.11460958421230316             2.0021958351135254\n",
            "t_mean.mean                               -0.1456276774406433             0.4847681522369385\n",
            "var.mean                                   0.7087536454200745            0.11097216606140137\n",
            "w_lambda                               0.00021212336621935173         3.7670135498046875e-05\n",
            "\n",
            "number of meta-features:  37\n"
          ],
          "name": "stdout"
        }
      ]
    },
    {
      "cell_type": "code",
      "metadata": {
        "id": "zjZ8tg2taflc",
        "colab_type": "code",
        "colab": {}
      },
      "source": [
        "meta_features_sets.append((mft_train_v2, mft_test_v2, mft_whole_v2))"
      ],
      "execution_count": 0,
      "outputs": []
    },
    {
      "cell_type": "markdown",
      "metadata": {
        "colab_type": "text",
        "id": "lTM38CM5ZbXk"
      },
      "source": [
        "## Version 3"
      ]
    },
    {
      "cell_type": "code",
      "metadata": {
        "colab_type": "code",
        "id": "1OAVKFb1ZbXl",
        "colab": {}
      },
      "source": [
        "mfe = MFE(features=[\"attr_ent\", \"attr_to_inst\",\"can_cor\", \"class_conc\", \"class_ent\", \"cov\", \"eigenvalues\", \"eq_num_attr\", \"freq_class\", \"gravity\", \"inst_to_attr\", \n",
        "                    \"iq_range\" , \"joint_ent\", \"kurtosis\", \"mad\", \"max\", \"mean\", \"median\", \"min\", \"mut_inf\", \"nr_attr\", \"nr_bin\", \"nr_class\", \"nr_cor_attr\", \n",
        "                    \"nr_disc\", \"nr_inst\", \"nr_norm\", \"nr_num\", \"nr_outliers\", \"ns_ratio\", \"range\", \"sd\", \"skewness\", \"sparsity\", \"t_mean\", \"var\", \"w_lambda\"],\n",
        "          summary=[\"max\", \"min\", \"median\", \"mean\", \"var\", \"sd\", \"kurtosis\", \"skewness\"],\n",
        "          measure_time=\"total\")"
      ],
      "execution_count": 0,
      "outputs": []
    },
    {
      "cell_type": "code",
      "metadata": {
        "colab_type": "code",
        "id": "0YrCwDghZbXp",
        "colab": {
          "base_uri": "https://localhost:8080/",
          "height": 1000
        },
        "outputId": "e74ec948-4302-4e1f-a30a-ab13d1aa46d4"
      },
      "source": [
        "#train\n",
        "mft_train_v3 = extract_meta_features(mfe, np_mnist_batch_train_X, np_mnist_batch_train_Y)\n",
        "print_meta_features(mft_train_v3)"
      ],
      "execution_count": 38,
      "outputs": [
        {
          "output_type": "stream",
          "text": [
            "Warning: It is not possible make equal discretization\n",
            "Warning: invalid value encountered in true_divide\n",
            "Warning: invalid value encountered in true_divide\n",
            "Warning: invalid value encountered in greater_equal\n",
            "Warning: Input data for shapiro has range zero. The results may not be accurate.\n"
          ],
          "name": "stderr"
        },
        {
          "output_type": "stream",
          "text": [
            "meta-extraction total time:  0:00:28.335246\n",
            "attr_ent.kurtosis                         -1.1219695647099106         2.6226043701171875e-05\n",
            "attr_ent.max                                3.755220413208008         2.6226043701171875e-05\n",
            "attr_ent.mean                              1.1245976686477661         2.6226043701171875e-05\n",
            "attr_ent.median                            0.3673746883869171         2.6226043701171875e-05\n",
            "attr_ent.min                                              0.0         2.6226043701171875e-05\n",
            "attr_ent.sd                                1.3028632402420044         2.6226043701171875e-05\n",
            "attr_ent.skewness                          0.7247737138293365         2.6226043701171875e-05\n",
            "attr_ent.var                               1.6974526643753052         2.6226043701171875e-05\n",
            "attr_to_inst                             0.013066666666666667         4.0531158447265625e-06\n",
            "can_cor.kurtosis                          -1.5673614970210135          2.384185791015625e-06\n",
            "can_cor.max                                0.8913758397102356          2.384185791015625e-06\n",
            "can_cor.mean                               0.7489992380142212          2.384185791015625e-06\n",
            "can_cor.median                             0.7767307162284851          2.384185791015625e-06\n",
            "can_cor.min                                0.5497003197669983          2.384185791015625e-06\n",
            "can_cor.sd                                0.12331559509038925          2.384185791015625e-06\n",
            "can_cor.skewness                          -0.3275294162436698          2.384185791015625e-06\n",
            "can_cor.var                              0.015206736512482166          2.384185791015625e-06\n",
            "class_conc.kurtosis                         4.516811979214058              14.79202127456665\n",
            "class_conc.max                                            0.5              14.79202127456665\n",
            "class_conc.mean                           0.10027358680963516              14.79202127456665\n",
            "class_conc.median                         0.06820470094680786              14.79202127456665\n",
            "class_conc.min                          -0.005903685465455055              14.79202127456665\n",
            "class_conc.sd                             0.13091528415679932              14.79202127456665\n",
            "class_conc.skewness                         2.317613334986102              14.79202127456665\n",
            "class_conc.var                           0.017138810828328133              14.79202127456665\n",
            "class_ent                                  3.3198709267551885         2.5510787963867188e-05\n",
            "cov.kurtosis                                51.76484872220664           0.006889820098876953\n",
            "cov.max                                     1.725829839706421           0.006889820098876953\n",
            "cov.mean                                  0.04092341661453247           0.006889820098876953\n",
            "cov.median                              0.0007669443730264902           0.006889820098876953\n",
            "cov.min                                                   0.0           0.006889820098876953\n",
            "cov.sd                                    0.11500980705022812           0.006889820098876953\n",
            "cov.skewness                                6.027504074582596           0.006889820098876953\n",
            "cov.var                                  0.013227256014943123           0.006889820098876953\n",
            "eigenvalues.kurtosis                       108.46591374925787            0.33922648429870605\n",
            "eigenvalues.max                            53.901302337646484            0.33922648429870605\n",
            "eigenvalues.mean                           0.7084394097328186            0.33922648429870605\n",
            "eigenvalues.median                        0.03651227056980133            0.33922648429870605\n",
            "eigenvalues.min                        -6.005202868703913e-17            0.33922648429870605\n",
            "eigenvalues.sd                             3.5118978023529053            0.33922648429870605\n",
            "eigenvalues.skewness                        9.496104675194347            0.33922648429870605\n",
            "eigenvalues.var                            12.333425521850586            0.33922648429870605\n",
            "eq_num_attr                                 34.00769883499537         1.9788742065429688e-05\n",
            "freq_class.kurtosis                       0.17588395156277992           8.58306884765625e-06\n",
            "freq_class.max                            0.11236666887998581           8.58306884765625e-06\n",
            "freq_class.mean                           0.10000000149011612           8.58306884765625e-06\n",
            "freq_class.median                         0.09893333911895752           8.58306884765625e-06\n",
            "freq_class.min                            0.09035000205039978           8.58306884765625e-06\n",
            "freq_class.sd                            0.005658420268446207           8.58306884765625e-06\n",
            "freq_class.skewness                        0.5795795130191003           8.58306884765625e-06\n",
            "freq_class.var                          3.201772051397711e-05           8.58306884765625e-06\n",
            "gravity                                      15.6823148727417            0.09774231910705566\n",
            "inst_to_attr                                76.53061224489795           2.86102294921875e-06\n",
            "iq_range.kurtosis                         -0.6525355298864044             1.3361454010009766\n",
            "iq_range.max                               3.2201614379882812             1.3361454010009766\n",
            "iq_range.mean                               0.794175386428833             1.3361454010009766\n",
            "iq_range.median                                           0.0             1.3361454010009766\n",
            "iq_range.min                                              0.0             1.3361454010009766\n",
            "iq_range.sd                                1.2603280544281006             1.3361454010009766\n",
            "iq_range.skewness                          1.0923131444531724             1.3361454010009766\n",
            "iq_range.var                                1.588426947593689             1.3361454010009766\n",
            "joint_ent.kurtosis                        -1.0279632319940535         1.6689300537109375e-06\n",
            "joint_ent.max                               6.925740718841553         1.6689300537109375e-06\n",
            "joint_ent.mean                              4.346847057342529         1.6689300537109375e-06\n",
            "joint_ent.median                            3.620522975921631         1.6689300537109375e-06\n",
            "joint_ent.min                               3.319871187210083         1.6689300537109375e-06\n",
            "joint_ent.sd                                1.215417742729187         1.6689300537109375e-06\n",
            "joint_ent.skewness                         0.7716145628911664         1.6689300537109375e-06\n",
            "joint_ent.var                              1.4772402048110962         1.6689300537109375e-06\n",
            "kurtosis.kurtosis                          12.975701756332413             0.3937687873840332\n",
            "kurtosis.max                                   59993.06640625             0.3937687873840332\n",
            "kurtosis.mean                                  3925.107421875             0.3937687873840332\n",
            "kurtosis.median                              9.03892707824707             0.3937687873840332\n",
            "kurtosis.min                                             -3.0             0.3937687873840332\n",
            "kurtosis.sd                                  12093.4658203125             0.3937687873840332\n",
            "kurtosis.skewness                          3.6879279136022163             0.3937687873840332\n",
            "kurtosis.var                                      146251920.0             0.3937687873840332\n",
            "mad.kurtosis                                6.056298290025632             0.7602884769439697\n",
            "mad.max                                    2.3776705265045166             0.7602884769439697\n",
            "mad.mean                                  0.21012574434280396             0.7602884769439697\n",
            "mad.median                                                0.0             0.7602884769439697\n",
            "mad.min                                                   0.0             0.7602884769439697\n",
            "mad.sd                                       0.55464106798172             0.7602884769439697\n",
            "mad.skewness                               2.6943156927086154             0.7602884769439697\n",
            "mad.var                                   0.30762672424316406             0.7602884769439697\n",
            "max.kurtosis                                2.513295620221702           0.019111156463623047\n",
            "max.max                                    2.8215980529785156           0.019111156463623047\n",
            "max.mean                                   2.3698384761810303           0.019111156463623047\n",
            "max.median                                 2.8215980529785156           0.019111156463623047\n",
            "max.min                                  -0.42401933670043945           0.019111156463623047\n",
            "max.sd                                     1.0342439413070679           0.019111156463623047\n",
            "max.skewness                              -2.0588309475142306           0.019111156463623047\n",
            "max.var                                    1.0696604251861572           0.019111156463623047\n",
            "mean.kurtosis                             -0.5697196468730552            0.02033233642578125\n",
            "mean.max                                   1.3522064685821533            0.02033233642578125\n",
            "mean.mean                               5.459299063659273e-05            0.02033233642578125\n",
            "mean.median                               -0.3321065306663513            0.02033233642578125\n",
            "mean.min                                 -0.42401933670043945            0.02033233642578125\n",
            "mean.sd                                    0.5403192639350891            0.02033233642578125\n",
            "mean.skewness                              0.9715249518967154            0.02033233642578125\n",
            "mean.var                                   0.2919449210166931            0.02033233642578125\n",
            "median.kurtosis                             7.801181623339337            0.34086108207702637\n",
            "median.max                                 1.7651814222335815            0.34086108207702637\n",
            "median.mean                              -0.27016422152519226            0.34086108207702637\n",
            "median.median                            -0.42401933670043945            0.34086108207702637\n",
            "median.min                               -0.42401933670043945            0.34086108207702637\n",
            "median.sd                                  0.4189738631248474            0.34086108207702637\n",
            "median.skewness                            2.9288841992165806            0.34086108207702637\n",
            "median.var                                0.17553909122943878            0.34086108207702637\n",
            "min.kurtosis                                             -3.0            0.01932668685913086\n",
            "min.max                                  -0.42401933670043945            0.01932668685913086\n",
            "min.mean                                 -0.42401933670043945            0.01932668685913086\n",
            "min.median                               -0.42401933670043945            0.01932668685913086\n",
            "min.min                                  -0.42401933670043945            0.01932668685913086\n",
            "min.sd                                                    0.0            0.01932668685913086\n",
            "min.skewness                                              0.0            0.01932668685913086\n",
            "min.var                                                   0.0            0.01932668685913086\n",
            "mut_inf.kurtosis                          -0.6202928066683295         3.0994415283203125e-06\n",
            "mut_inf.max                               0.40320152044296265         3.0994415283203125e-06\n",
            "mut_inf.mean                              0.09762115776538849         3.0994415283203125e-06\n",
            "mut_inf.median                            0.06119941920042038         3.0994415283203125e-06\n",
            "mut_inf.min                           -1.8812723112660024e-07         3.0994415283203125e-06\n",
            "mut_inf.sd                                0.10258600115776062         3.0994415283203125e-06\n",
            "mut_inf.skewness                           0.7646846170267777         3.0994415283203125e-06\n",
            "mut_inf.var                              0.010523887351155281         3.0994415283203125e-06\n",
            "nr_attr                                                   784          1.430511474609375e-06\n",
            "nr_bin                                                     17             1.6501426696777344\n",
            "nr_class                                                   10         2.1457672119140625e-06\n",
            "nr_cor_attr                              0.007587901060807465           0.008401632308959961\n",
            "nr_disc                                                     9           2.86102294921875e-06\n",
            "nr_inst                                                 60000            1.9073486328125e-06\n",
            "nr_norm                                                   136            0.13933396339416504\n",
            "nr_num                                                    784         2.1457672119140625e-06\n",
            "nr_outliers                                               503             1.5513513088226318\n",
            "ns_ratio                                   10.520019248451849         2.3365020751953125e-05\n",
            "range.kurtosis                             2.5132935364586855            0.03794574737548828\n",
            "range.max                                   3.245617389678955            0.03794574737548828\n",
            "range.mean                                 2.7938575744628906            0.03794574737548828\n",
            "range.median                                3.245617389678955            0.03794574737548828\n",
            "range.min                                                 0.0            0.03794574737548828\n",
            "range.sd                                   1.0342439413070679            0.03794574737548828\n",
            "range.skewness                             -2.058830233626531            0.03794574737548828\n",
            "range.var                                  1.0696604251861572            0.03794574737548828\n",
            "sd.kurtosis                               -1.6168868262827636             0.0970907211303711\n",
            "sd.max                                     1.4486145973205566             0.0970907211303711\n",
            "sd.mean                                    0.6271228790283203             0.0970907211303711\n",
            "sd.median                                  0.4693293273448944             0.0970907211303711\n",
            "sd.min                                                    0.0             0.0970907211303711\n",
            "sd.sd                                      0.5617461800575256             0.0970907211303711\n",
            "sd.skewness                                0.2592699132801835             0.0970907211303711\n",
            "sd.var                                     0.3155587613582611             0.0970907211303711\n",
            "skewness.kurtosis                          6.6885951461580895            0.45441699028015137\n",
            "skewness.max                               244.93692016601562            0.45441699028015137\n",
            "skewness.mean                              26.904132843017578            0.45441699028015137\n",
            "skewness.median                             3.225494384765625            0.45441699028015137\n",
            "skewness.min                             -0.22839628159999847            0.45441699028015137\n",
            "skewness.sd                                     55.5146484375            0.45441699028015137\n",
            "skewness.skewness                          2.7072184989945467            0.45441699028015137\n",
            "skewness.var                                3081.876220703125            0.45441699028015137\n",
            "sparsity.kurtosis                          4.9914156338236895             1.6879091262817383\n",
            "sparsity.max                                              1.0             1.6879091262817383\n",
            "sparsity.mean                             0.11740937829017639             1.6879091262817383\n",
            "sparsity.median                         0.0038896482437849045             1.6879091262817383\n",
            "sparsity.min                            0.0038896482437849045             1.6879091262817383\n",
            "sparsity.sd                                0.2846902012825012             1.6879091262817383\n",
            "sparsity.skewness                            2.56116635615844             1.6879091262817383\n",
            "sparsity.var                              0.08104851841926575             1.6879091262817383\n",
            "t_mean.kurtosis                            1.2378366678622594            0.43100643157958984\n",
            "t_mean.max                                 1.4591288566589355            0.43100643157958984\n",
            "t_mean.mean                              -0.14730538427829742            0.43100643157958984\n",
            "t_mean.median                            -0.42401933670043945            0.43100643157958984\n",
            "t_mean.min                               -0.42401933670043945            0.43100643157958984\n",
            "t_mean.sd                                  0.4893190562725067            0.43100643157958984\n",
            "t_mean.skewness                            1.6071519392152824            0.43100643157958984\n",
            "t_mean.var                                0.23943312466144562            0.43100643157958984\n",
            "var.kurtosis                              -1.3775414041087566            0.09755587577819824\n",
            "var.max                                    2.0984842777252197            0.09755587577819824\n",
            "var.mean                                   0.7084394097328186            0.09755587577819824\n",
            "var.median                                0.22027647495269775            0.09755587577819824\n",
            "var.min                                                   0.0            0.09755587577819824\n",
            "var.sd                                      0.806414008140564            0.09755587577819824\n",
            "var.skewness                                0.605309188049566            0.09755587577819824\n",
            "var.var                                    0.6503035426139832            0.09755587577819824\n",
            "w_lambda                                0.0002124981038784846          3.218650817871094e-05\n",
            "\n",
            "number of meta-features:  184\n"
          ],
          "name": "stdout"
        }
      ]
    },
    {
      "cell_type": "code",
      "metadata": {
        "colab_type": "code",
        "id": "iEruMhuPZbXt",
        "colab": {
          "base_uri": "https://localhost:8080/",
          "height": 1000
        },
        "outputId": "a6443848-50d5-476c-8c92-c8f4ccc4c37d"
      },
      "source": [
        "#test\n",
        "mft_test_v3 = extract_meta_features(mfe, np_mnist_batch_test_X, np_mnist_batch_test_Y)\n",
        "print_meta_features(mft_test_v3)"
      ],
      "execution_count": 39,
      "outputs": [
        {
          "output_type": "stream",
          "text": [
            "Warning: It is not possible make equal discretization\n",
            "Warning: invalid value encountered in true_divide\n",
            "Warning: invalid value encountered in true_divide\n",
            "Warning: invalid value encountered in greater_equal\n",
            "Warning: Input data for shapiro has range zero. The results may not be accurate.\n"
          ],
          "name": "stderr"
        },
        {
          "output_type": "stream",
          "text": [
            "meta-extraction total time:  0:00:16.836582\n",
            "attr_ent.kurtosis                         -1.0955344707663608         1.6689300537109375e-06\n",
            "attr_ent.max                               3.3531336784362793         1.6689300537109375e-06\n",
            "attr_ent.mean                               1.005646824836731         1.6689300537109375e-06\n",
            "attr_ent.median                            0.3026430606842041         1.6689300537109375e-06\n",
            "attr_ent.min                                              0.0         1.6689300537109375e-06\n",
            "attr_ent.sd                                1.1747077703475952         1.6689300537109375e-06\n",
            "attr_ent.skewness                          0.7446827329822502         1.6689300537109375e-06\n",
            "attr_ent.var                               1.3799383640289307         1.6689300537109375e-06\n",
            "attr_to_inst                                           0.0784            5.7220458984375e-06\n",
            "can_cor.kurtosis                          -1.5540625613688193         2.1457672119140625e-06\n",
            "can_cor.max                                0.8991605043411255         2.1457672119140625e-06\n",
            "can_cor.mean                               0.7751142382621765         2.1457672119140625e-06\n",
            "can_cor.median                             0.7984820008277893         2.1457672119140625e-06\n",
            "can_cor.min                                0.5979381203651428         2.1457672119140625e-06\n",
            "can_cor.sd                                0.10916385054588318         2.1457672119140625e-06\n",
            "can_cor.skewness                         -0.34408539766423535         2.1457672119140625e-06\n",
            "can_cor.var                              0.011916745454072952         2.1457672119140625e-06\n",
            "class_conc.kurtosis                        1.0798305167840185              10.58542776107788\n",
            "class_conc.max                                            0.5              10.58542776107788\n",
            "class_conc.mean                           0.13889558613300323              10.58542776107788\n",
            "class_conc.median                         0.08914307504892349              10.58542776107788\n",
            "class_conc.min                        -0.00013095820031594485              10.58542776107788\n",
            "class_conc.sd                              0.1588108390569687              10.58542776107788\n",
            "class_conc.skewness                        1.5776544564039772              10.58542776107788\n",
            "class_conc.var                           0.025220884010195732              10.58542776107788\n",
            "class_ent                                  3.3194225261208263         3.0994415283203125e-06\n",
            "cov.kurtosis                               50.258443842113955           0.007039546966552734\n",
            "cov.max                                    1.7370434999465942           0.007039546966552734\n",
            "cov.mean                                  0.04187243804335594           0.007039546966552734\n",
            "cov.median                               0.000730781233869493           0.007039546966552734\n",
            "cov.min                                                   0.0           0.007039546966552734\n",
            "cov.sd                                    0.11806239932775497           0.007039546966552734\n",
            "cov.skewness                               5.9474110822105635           0.007039546966552734\n",
            "cov.var                                  0.013938730582594872           0.007039546966552734\n",
            "eigenvalues.kurtosis                       113.39136665870201            0.36409926414489746\n",
            "eigenvalues.max                             55.94145202636719            0.36409926414489746\n",
            "eigenvalues.mean                           0.7101541757583618            0.36409926414489746\n",
            "eigenvalues.median                       0.033504582941532135            0.36409926414489746\n",
            "eigenvalues.min                       -3.0055336241873343e-17            0.36409926414489746\n",
            "eigenvalues.sd                              3.600919008255005            0.36409926414489746\n",
            "eigenvalues.skewness                        9.708572884254906            0.36409926414489746\n",
            "eigenvalues.var                            12.966617584228516            0.36409926414489746\n",
            "eq_num_attr                                32.230174443668005         1.5974044799804688e-05\n",
            "freq_class.kurtosis                       0.12480101830885104         1.4543533325195312e-05\n",
            "freq_class.max                            0.11349999904632568         1.4543533325195312e-05\n",
            "freq_class.mean                           0.10000000149011612         1.4543533325195312e-05\n",
            "freq_class.median                         0.09955000132322311         1.4543533325195312e-05\n",
            "freq_class.min                            0.08919999748468399         1.4543533325195312e-05\n",
            "freq_class.sd                            0.006239836569875479         1.4543533325195312e-05\n",
            "freq_class.skewness                       0.47400935120723253         1.4543533325195312e-05\n",
            "freq_class.var                         3.8935559132369235e-05         1.4543533325195312e-05\n",
            "gravity                                    16.277509689331055           0.014116525650024414\n",
            "inst_to_attr                               12.755102040816327          2.384185791015625e-06\n",
            "iq_range.kurtosis                         -0.6914441295316722            0.21544933319091797\n",
            "iq_range.max                               3.2201614379882812            0.21544933319091797\n",
            "iq_range.mean                              0.8070048093795776            0.21544933319091797\n",
            "iq_range.median                                           0.0            0.21544933319091797\n",
            "iq_range.min                                              0.0            0.21544933319091797\n",
            "iq_range.sd                                1.2754442691802979            0.21544933319091797\n",
            "iq_range.skewness                           1.078317019155019            0.21544933319091797\n",
            "iq_range.var                               1.6267579793930054            0.21544933319091797\n",
            "joint_ent.kurtosis                        -0.9782618733908826            9.5367431640625e-07\n",
            "joint_ent.max                              6.5215253829956055            9.5367431640625e-07\n",
            "joint_ent.mean                              4.222078800201416            9.5367431640625e-07\n",
            "joint_ent.median                           3.5572991371154785            9.5367431640625e-07\n",
            "joint_ent.min                               3.319422721862793            9.5367431640625e-07\n",
            "joint_ent.sd                                1.080856204032898            9.5367431640625e-07\n",
            "joint_ent.skewness                         0.8011467882371945            9.5367431640625e-07\n",
            "joint_ent.var                              1.1682502031326294            9.5367431640625e-07\n",
            "kurtosis.kurtosis                           10.64768508225255            0.17536687850952148\n",
            "kurtosis.max                                  9993.0224609375            0.17536687850952148\n",
            "kurtosis.mean                               760.0972290039062            0.17536687850952148\n",
            "kurtosis.median                             2.959397792816162            0.17536687850952148\n",
            "kurtosis.min                                             -3.0            0.17536687850952148\n",
            "kurtosis.sd                                 2119.355712890625            0.17536687850952148\n",
            "kurtosis.skewness                           3.362780621857711            0.17536687850952148\n",
            "kurtosis.var                                        4491669.0            0.17536687850952148\n",
            "mad.kurtosis                               5.1922777305976755            0.13890314102172852\n",
            "mad.max                                    2.3776705265045166            0.13890314102172852\n",
            "mad.mean                                  0.22460350394248962            0.13890314102172852\n",
            "mad.median                                                0.0            0.13890314102172852\n",
            "mad.min                                                   0.0            0.13890314102172852\n",
            "mad.sd                                     0.5752846002578735            0.13890314102172852\n",
            "mad.skewness                               2.5536705353106877            0.13890314102172852\n",
            "mad.var                                   0.33095237612724304            0.13890314102172852\n",
            "max.kurtosis                               0.6680874847984892          0.0035314559936523438\n",
            "max.max                                    2.8215980529785156          0.0035314559936523438\n",
            "max.mean                                    2.205300807952881          0.0035314559936523438\n",
            "max.median                                 2.8215980529785156          0.0035314559936523438\n",
            "max.min                                  -0.42401933670043945          0.0035314559936523438\n",
            "max.sd                                      1.212156891822815          0.0035314559936523438\n",
            "max.skewness                              -1.5962966818336206          0.0035314559936523438\n",
            "max.var                                    1.4693244695663452          0.0035314559936523438\n",
            "mean.kurtosis                             -0.5457935768214215          0.0037658214569091797\n",
            "mean.max                                    1.395351767539978          0.0037658214569091797\n",
            "mean.mean                                0.006072384770959616          0.0037658214569091797\n",
            "mean.median                               -0.3357703685760498          0.0037658214569091797\n",
            "mean.min                                 -0.42401933670043945          0.0037658214569091797\n",
            "mean.sd                                    0.5529614686965942          0.0037658214569091797\n",
            "mean.skewness                              0.9849640663171108          0.0037658214569091797\n",
            "mean.var                                  0.30576637387275696          0.0037658214569091797\n",
            "median.kurtosis                             7.075875234557719            0.06084036827087402\n",
            "median.max                                 1.9051884412765503            0.06084036827087402\n",
            "median.mean                              -0.25312602519989014            0.06084036827087402\n",
            "median.median                            -0.42401933670043945            0.06084036827087402\n",
            "median.min                               -0.42401933670043945            0.06084036827087402\n",
            "median.sd                                  0.4549782872200012            0.06084036827087402\n",
            "median.skewness                            2.8222165268899646            0.06084036827087402\n",
            "median.var                                0.20700524747371674            0.06084036827087402\n",
            "min.kurtosis                                             -3.0          0.0034155845642089844\n",
            "min.max                                  -0.42401933670043945          0.0034155845642089844\n",
            "min.mean                                 -0.42401933670043945          0.0034155845642089844\n",
            "min.median                               -0.42401933670043945          0.0034155845642089844\n",
            "min.min                                  -0.42401933670043945          0.0034155845642089844\n",
            "min.sd                                                    0.0          0.0034155845642089844\n",
            "min.skewness                                              0.0          0.0034155845642089844\n",
            "min.var                                                   0.0          0.0034155845642089844\n",
            "mut_inf.kurtosis                           -0.624309064718163         3.0994415283203125e-06\n",
            "mut_inf.max                                0.4130342900753021         3.0994415283203125e-06\n",
            "mut_inf.mean                              0.10299114137887955         3.0994415283203125e-06\n",
            "mut_inf.median                            0.06240382045507431         3.0994415283203125e-06\n",
            "mut_inf.min                           -1.8817218006006442e-07         3.0994415283203125e-06\n",
            "mut_inf.sd                                0.10970031470060349         3.0994415283203125e-06\n",
            "mut_inf.skewness                           0.7784077397704044         3.0994415283203125e-06\n",
            "mut_inf.var                              0.012034159153699875         3.0994415283203125e-06\n",
            "nr_attr                                                   784         1.1920928955078125e-06\n",
            "nr_bin                                                     19             0.2649827003479004\n",
            "nr_class                                                   10            1.9073486328125e-06\n",
            "nr_cor_attr                              0.007773607527302108            0.00783228874206543\n",
            "nr_disc                                                     9           2.86102294921875e-06\n",
            "nr_inst                                                 10000         1.6689300537109375e-06\n",
            "nr_norm                                                   135            0.13124322891235352\n",
            "nr_num                                                    784         2.6226043701171875e-06\n",
            "nr_outliers                                               453            0.24524521827697754\n",
            "ns_ratio                                     8.76440157402169         2.4080276489257812e-05\n",
            "range.kurtosis                             0.6680874847984892           0.006701946258544922\n",
            "range.max                                   3.245617389678955           0.006701946258544922\n",
            "range.mean                                 2.6293201446533203           0.006701946258544922\n",
            "range.median                                3.245617389678955           0.006701946258544922\n",
            "range.min                                                 0.0           0.006701946258544922\n",
            "range.sd                                    1.212156891822815           0.006701946258544922\n",
            "range.skewness                            -1.5962966818336206           0.006701946258544922\n",
            "range.var                                  1.4693244695663452           0.006701946258544922\n",
            "sd.kurtosis                                -1.613724741406926           0.018373489379882812\n",
            "sd.max                                     1.4548555612564087           0.018373489379882812\n",
            "sd.mean                                    0.6245486736297607           0.018373489379882812\n",
            "sd.median                                  0.4607181251049042           0.018373489379882812\n",
            "sd.min                                                    0.0           0.018373489379882812\n",
            "sd.sd                                      0.5661287903785706           0.018373489379882812\n",
            "sd.skewness                                0.2733224654519407           0.018373489379882812\n",
            "sd.var                                    0.32050183415412903           0.018373489379882812\n",
            "skewness.kurtosis                           4.982625607214082            0.23456478118896484\n",
            "skewness.max                                99.97016143798828            0.23456478118896484\n",
            "skewness.mean                              12.954124450683594            0.23456478118896484\n",
            "skewness.median                            2.1369433403015137            0.23456478118896484\n",
            "skewness.min                              -0.2783249020576477            0.23456478118896484\n",
            "skewness.sd                                23.837629318237305            0.23456478118896484\n",
            "skewness.skewness                          2.3877932551263923            0.23456478118896484\n",
            "skewness.var                                568.2325439453125            0.23456478118896484\n",
            "sparsity.kurtosis                          1.3017333696403073              0.257828950881958\n",
            "sparsity.max                                              1.0              0.257828950881958\n",
            "sparsity.mean                             0.18372632563114166              0.257828950881958\n",
            "sparsity.median                          0.005164257250726223              0.257828950881958\n",
            "sparsity.min                             0.003806630615144968              0.257828950881958\n",
            "sparsity.sd                               0.35280004143714905              0.257828950881958\n",
            "sparsity.skewness                          1.7605774711586282              0.257828950881958\n",
            "sparsity.var                               0.1244678646326065              0.257828950881958\n",
            "t_mean.kurtosis                            1.2107364907737512            0.07480406761169434\n",
            "t_mean.max                                 1.5307310819625854            0.07480406761169434\n",
            "t_mean.mean                              -0.13535869121551514            0.07480406761169434\n",
            "t_mean.median                            -0.42401936650276184            0.07480406761169434\n",
            "t_mean.min                               -0.42401936650276184            0.07480406761169434\n",
            "t_mean.sd                                  0.5097164511680603            0.07480406761169434\n",
            "t_mean.skewness                            1.6018404957475916            0.07480406761169434\n",
            "t_mean.var                                0.25981083512306213            0.07480406761169434\n",
            "var.kurtosis                              -1.3724387617816165           0.018628358840942383\n",
            "var.max                                     2.116604804992676           0.018628358840942383\n",
            "var.mean                                   0.7101540565490723           0.018628358840942383\n",
            "var.median                                0.21229171752929688           0.018628358840942383\n",
            "var.min                                                   0.0           0.018628358840942383\n",
            "var.sd                                     0.8149258494377136           0.018628358840942383\n",
            "var.skewness                                 0.61513406751787           0.018628358840942383\n",
            "var.var                                    0.6641041040420532           0.018628358840942383\n",
            "w_lambda                                9.393754475834726e-05         3.0994415283203125e-05\n",
            "\n",
            "number of meta-features:  184\n"
          ],
          "name": "stdout"
        }
      ]
    },
    {
      "cell_type": "code",
      "metadata": {
        "id": "4cDoy_JAia8N",
        "colab_type": "code",
        "colab": {
          "base_uri": "https://localhost:8080/",
          "height": 1000
        },
        "outputId": "9321a85a-9165-4cb9-ee24-657901692647"
      },
      "source": [
        "#whole\n",
        "mft_whole_v3 = extract_meta_features(mfe, np_whole_mnist_X, np_whole_mnist_Y)\n",
        "print_meta_features(mft_whole_v3)"
      ],
      "execution_count": 40,
      "outputs": [
        {
          "output_type": "stream",
          "text": [
            "Warning: It is not possible make equal discretization\n",
            "Warning: invalid value encountered in true_divide\n",
            "Warning: invalid value encountered in true_divide\n",
            "Warning: Casting complex values to real discards the imaginary part\n",
            "Warning: invalid value encountered in greater_equal\n",
            "Warning: Input data for shapiro has range zero. The results may not be accurate.\n"
          ],
          "name": "stderr"
        },
        {
          "output_type": "stream",
          "text": [
            "meta-extraction total time:  0:00:29.781670\n",
            "attr_ent.kurtosis                          -1.126077367419713            1.9073486328125e-06\n",
            "attr_ent.max                                3.777414560317993            1.9073486328125e-06\n",
            "attr_ent.mean                               1.133476972579956            1.9073486328125e-06\n",
            "attr_ent.median                            0.3729779124259949            1.9073486328125e-06\n",
            "attr_ent.min                                              0.0            1.9073486328125e-06\n",
            "attr_ent.sd                                 1.313546895980835            1.9073486328125e-06\n",
            "attr_ent.skewness                          0.7232800822894594            1.9073486328125e-06\n",
            "attr_ent.var                               1.7254055738449097            1.9073486328125e-06\n",
            "attr_to_inst                                           0.0112         5.4836273193359375e-06\n",
            "can_cor.kurtosis                          -1.5643985393646889         2.6226043701171875e-06\n",
            "can_cor.max                                0.8905003070831299         2.6226043701171875e-06\n",
            "can_cor.mean                               0.7492933869361877         2.6226043701171875e-06\n",
            "can_cor.median                              0.777136504650116         2.6226043701171875e-06\n",
            "can_cor.min                                0.5503784418106079         2.6226043701171875e-06\n",
            "can_cor.sd                                0.12286309152841568         2.6226043701171875e-06\n",
            "can_cor.skewness                         -0.33048996073853637         2.6226043701171875e-06\n",
            "can_cor.var                              0.015095340088009834         2.6226043701171875e-06\n",
            "class_conc.kurtosis                          4.73019524525164             14.845454931259155\n",
            "class_conc.max                                            0.5             14.845454931259155\n",
            "class_conc.mean                           0.09878312051296234             14.845454931259155\n",
            "class_conc.median                          0.0674772560596466             14.845454931259155\n",
            "class_conc.min                          -0.006935806013643742             14.845454931259155\n",
            "class_conc.sd                             0.12949182093143463             14.845454931259155\n",
            "class_conc.skewness                         2.351131076378752             14.845454931259155\n",
            "class_conc.var                           0.016768133267760277             14.845454931259155\n",
            "class_ent                                   3.319837025403414         3.0994415283203125e-06\n",
            "cov.kurtosis                                 51.6373792194576          0.0073015689849853516\n",
            "cov.max                                    1.7274500131607056          0.0073015689849853516\n",
            "cov.mean                                 0.041016411036252975          0.0073015689849853516\n",
            "cov.median                              0.0007490745629183948          0.0073015689849853516\n",
            "cov.min                                                   0.0          0.0073015689849853516\n",
            "cov.sd                                    0.11539138853549957          0.0073015689849853516\n",
            "cov.skewness                                 6.02156748097529          0.0073015689849853516\n",
            "cov.var                                  0.013315172865986824          0.0073015689849853516\n",
            "eigenvalues.kurtosis                       109.07162963281186             0.3637239933013916\n",
            "eigenvalues.max                             54.15554428100586             0.3637239933013916\n",
            "eigenvalues.mean                           0.7087536454200745             0.3637239933013916\n",
            "eigenvalues.median                       0.036302197724580765             0.3637239933013916\n",
            "eigenvalues.min                       -2.0136631714723464e-17             0.3637239933013916\n",
            "eigenvalues.sd                              3.522831678390503             0.3637239933013916\n",
            "eigenvalues.skewness                        9.522330053733684             0.3637239933013916\n",
            "eigenvalues.var                            12.410343170166016             0.3637239933013916\n",
            "eq_num_attr                                33.876050133048835         1.7881393432617188e-05\n",
            "freq_class.kurtosis                       0.24206865930250698          1.430511474609375e-05\n",
            "freq_class.max                            0.11252856999635696          1.430511474609375e-05\n",
            "freq_class.mean                           0.09999999403953552          1.430511474609375e-05\n",
            "freq_class.median                         0.09900714457035065          1.430511474609375e-05\n",
            "freq_class.min                            0.09018571674823761          1.430511474609375e-05\n",
            "freq_class.sd                             0.00570451095700264          1.430511474609375e-05\n",
            "freq_class.skewness                        0.5725216478243551          1.430511474609375e-05\n",
            "freq_class.var                          3.254144394304603e-05          1.430511474609375e-05\n",
            "gravity                                    15.760612487792969            0.09697771072387695\n",
            "inst_to_attr                                89.28571428571429          3.337860107421875e-06\n",
            "iq_range.kurtosis                         -0.6593619596789617              1.354435682296753\n",
            "iq_range.max                               3.2201614379882812              1.354435682296753\n",
            "iq_range.mean                              0.7964035868644714              1.354435682296753\n",
            "iq_range.median                                           0.0              1.354435682296753\n",
            "iq_range.min                                              0.0              1.354435682296753\n",
            "iq_range.sd                                1.2628525495529175              1.354435682296753\n",
            "iq_range.skewness                           1.089717210814184              1.354435682296753\n",
            "iq_range.var                               1.5947964191436768              1.354435682296753\n",
            "joint_ent.kurtosis                          -1.03249448426974          1.430511474609375e-06\n",
            "joint_ent.max                               6.941306114196777          1.430511474609375e-06\n",
            "joint_ent.mean                              4.355314254760742          1.430511474609375e-06\n",
            "joint_ent.median                            3.622962474822998          1.430511474609375e-06\n",
            "joint_ent.min                              3.3198373317718506          1.430511474609375e-06\n",
            "joint_ent.sd                               1.2256087064743042          1.430511474609375e-06\n",
            "joint_ent.skewness                          0.769951561494515          1.430511474609375e-06\n",
            "joint_ent.var                              1.5021165609359741          1.430511474609375e-06\n",
            "kurtosis.kurtosis                           13.54916672499948             0.5221884250640869\n",
            "kurtosis.max                                       69993.0625             0.5221884250640869\n",
            "kurtosis.mean                                4488.20556640625             0.5221884250640869\n",
            "kurtosis.median                              9.37476634979248             0.5221884250640869\n",
            "kurtosis.min                                             -3.0             0.5221884250640869\n",
            "kurtosis.sd                                   13918.755859375             0.5221884250640869\n",
            "kurtosis.skewness                           3.742398021021017             0.5221884250640869\n",
            "kurtosis.var                                      193731760.0             0.5221884250640869\n",
            "mad.kurtosis                                5.925152705771712             0.8728377819061279\n",
            "mad.max                                     2.358799934387207             0.8728377819061279\n",
            "mad.mean                                   0.2123882919549942             0.8728377819061279\n",
            "mad.median                                                0.0             0.8728377819061279\n",
            "mad.min                                                   0.0             0.8728377819061279\n",
            "mad.sd                                     0.5579546093940735             0.8728377819061279\n",
            "mad.skewness                               2.6737362140243195             0.8728377819061279\n",
            "mad.var                                   0.31131333112716675             0.8728377819061279\n",
            "max.kurtosis                               2.6985231209081197            0.02175283432006836\n",
            "max.max                                    2.8215980529785156            0.02175283432006836\n",
            "max.mean                                   2.3819656372070312            0.02175283432006836\n",
            "max.median                                 2.8215980529785156            0.02175283432006836\n",
            "max.min                                  -0.42401933670043945            0.02175283432006836\n",
            "max.sd                                     1.0262709856033325            0.02175283432006836\n",
            "max.skewness                              -2.1063182813788583            0.02175283432006836\n",
            "max.var                                     1.053232192993164            0.02175283432006836\n",
            "mean.kurtosis                             -0.5671133141024454           0.023634672164916992\n",
            "mean.max                                   1.3580799102783203           0.023634672164916992\n",
            "mean.mean                               0.0009142816998064518           0.023634672164916992\n",
            "mean.median                              -0.33242863416671753           0.023634672164916992\n",
            "mean.min                                 -0.42401933670043945           0.023634672164916992\n",
            "mean.sd                                    0.5420740842819214           0.023634672164916992\n",
            "mean.skewness                              0.9731866444992505           0.023634672164916992\n",
            "mean.var                                   0.2938442826271057           0.023634672164916992\n",
            "median.kurtosis                             7.686084760049779            0.39410996437072754\n",
            "median.max                                 1.7779093980789185            0.39410996437072754\n",
            "median.mean                              -0.26787513494491577            0.39410996437072754\n",
            "median.median                            -0.42401933670043945            0.39410996437072754\n",
            "median.min                               -0.42401933670043945            0.39410996437072754\n",
            "median.sd                                  0.4235726594924927            0.39410996437072754\n",
            "median.skewness                            2.9123319990093437            0.39410996437072754\n",
            "median.var                                 0.1794138103723526            0.39410996437072754\n",
            "min.kurtosis                                             -3.0           0.022332191467285156\n",
            "min.max                                  -0.42401933670043945           0.022332191467285156\n",
            "min.mean                                 -0.42401933670043945           0.022332191467285156\n",
            "min.median                               -0.42401933670043945           0.022332191467285156\n",
            "min.min                                  -0.42401933670043945           0.022332191467285156\n",
            "min.sd                                                    0.0           0.022332191467285156\n",
            "min.skewness                                              0.0           0.022332191467285156\n",
            "min.var                                                   0.0           0.022332191467285156\n",
            "mut_inf.kurtosis                           -0.618481698395136         3.0994415283203125e-06\n",
            "mut_inf.max                                0.4046270549297333         3.0994415283203125e-06\n",
            "mut_inf.mean                              0.09799953550100327         3.0994415283203125e-06\n",
            "mut_inf.median                            0.06143554300069809         3.0994415283203125e-06\n",
            "mut_inf.min                           -1.8813064173173188e-07         3.0994415283203125e-06\n",
            "mut_inf.sd                                0.10317065566778183         3.0994415283203125e-06\n",
            "mut_inf.skewness                           0.7670823278477921         3.0994415283203125e-06\n",
            "mut_inf.var                              0.010644184425473213         3.0994415283203125e-06\n",
            "nr_attr                                                   784         1.1920928955078125e-06\n",
            "nr_bin                                                     19             2.0841410160064697\n",
            "nr_class                                                   10            1.9073486328125e-06\n",
            "nr_cor_attr                              0.007591159068991582           0.007849454879760742\n",
            "nr_disc                                                     9         2.6226043701171875e-06\n",
            "nr_inst                                                 70000          2.384185791015625e-06\n",
            "nr_norm                                                   136            0.13179612159729004\n",
            "nr_num                                                    784           2.86102294921875e-06\n",
            "nr_outliers                                               505             1.6700921058654785\n",
            "ns_ratio                                   10.566146753703807          2.384185791015625e-05\n",
            "range.kurtosis                             2.6985218333918333           0.043563127517700195\n",
            "range.max                                   3.245617389678955           0.043563127517700195\n",
            "range.mean                                 2.8059847354888916           0.043563127517700195\n",
            "range.median                                3.245617389678955           0.043563127517700195\n",
            "range.min                                                 0.0           0.043563127517700195\n",
            "range.sd                                    1.026270866394043           0.043563127517700195\n",
            "range.skewness                            -2.1063178054537253           0.043563127517700195\n",
            "range.var                                   1.053231954574585           0.043563127517700195\n",
            "sd.kurtosis                               -1.6164693831887897            0.11341667175292969\n",
            "sd.max                                     1.4495347738265991            0.11341667175292969\n",
            "sd.mean                                    0.6269221901893616            0.11341667175292969\n",
            "sd.median                                 0.46795207262039185            0.11341667175292969\n",
            "sd.min                                                    0.0            0.11341667175292969\n",
            "sd.sd                                      0.5622503161430359            0.11341667175292969\n",
            "sd.skewness                               0.26149370321033755            0.11341667175292969\n",
            "sd.var                                    0.31612539291381836            0.11341667175292969\n",
            "skewness.kurtosis                           6.852057431178498             0.6039121150970459\n",
            "skewness.max                                  264.56396484375             0.6039121150970459\n",
            "skewness.mean                              28.501474380493164             0.6039121150970459\n",
            "skewness.median                             3.277890205383301             0.6039121150970459\n",
            "skewness.min                             -0.23548652231693268             0.6039121150970459\n",
            "skewness.sd                                  59.4656867980957             0.6039121150970459\n",
            "skewness.skewness                          2.7316741499261137             0.6039121150970459\n",
            "skewness.var                                    3536.16796875             0.6039121150970459\n",
            "sparsity.kurtosis                           5.213162809960828             1.9705355167388916\n",
            "sparsity.max                                              1.0             1.9705355167388916\n",
            "sparsity.mean                             0.11460958421230316             1.9705355167388916\n",
            "sparsity.median                          0.003892019856721163             1.9705355167388916\n",
            "sparsity.min                             0.003892019856721163             1.9705355167388916\n",
            "sparsity.sd                                0.2815890908241272             1.9705355167388916\n",
            "sparsity.skewness                           2.601736594137275             1.9705355167388916\n",
            "sparsity.var                               0.0792924165725708             1.9705355167388916\n",
            "t_mean.kurtosis                             1.232033506085009             0.4936039447784424\n",
            "t_mean.max                                  1.468887209892273             0.4936039447784424\n",
            "t_mean.mean                               -0.1456276774406433             0.4936039447784424\n",
            "t_mean.median                            -0.42401933670043945             0.4936039447784424\n",
            "t_mean.min                               -0.42401933670043945             0.4936039447784424\n",
            "t_mean.sd                                 0.49212294816970825             0.4936039447784424\n",
            "t_mean.skewness                            1.6058656325615515             0.4936039447784424\n",
            "t_mean.var                                0.24218498170375824             0.4936039447784424\n",
            "var.kurtosis                              -1.3769572642790266            0.11225771903991699\n",
            "var.max                                    2.1011509895324707            0.11225771903991699\n",
            "var.mean                                   0.7087536454200745            0.11225771903991699\n",
            "var.median                                0.21898052096366882            0.11225771903991699\n",
            "var.min                                                   0.0            0.11225771903991699\n",
            "var.sd                                     0.8076651692390442            0.11225771903991699\n",
            "var.skewness                               0.6066678948141836            0.11225771903991699\n",
            "var.var                                    0.6523230671882629            0.11225771903991699\n",
            "w_lambda                               0.00021212336621935173               3.0517578125e-05\n",
            "\n",
            "number of meta-features:  184\n"
          ],
          "name": "stdout"
        }
      ]
    },
    {
      "cell_type": "code",
      "metadata": {
        "id": "AW9xP55ea8_V",
        "colab_type": "code",
        "colab": {}
      },
      "source": [
        "meta_features_sets.append((mft_train_v3, mft_test_v3, mft_whole_v3))"
      ],
      "execution_count": 0,
      "outputs": []
    },
    {
      "cell_type": "markdown",
      "metadata": {
        "id": "JZ1NhZMCofM8",
        "colab_type": "text"
      },
      "source": [
        "# **DataFrame creation**"
      ]
    },
    {
      "cell_type": "code",
      "metadata": {
        "id": "INmuAj4Lk20H",
        "colab_type": "code",
        "colab": {}
      },
      "source": [
        "def print_meta_features_dict(mtf : dict):\n",
        "  print(\"\\nnumber of meta-features: \", len(mtf))\n",
        "  print(mtf)"
      ],
      "execution_count": 0,
      "outputs": []
    },
    {
      "cell_type": "code",
      "metadata": {
        "id": "m7mi9sj7lP0-",
        "colab_type": "code",
        "colab": {
          "base_uri": "https://localhost:8080/",
          "height": 496
        },
        "outputId": "71fe0578-6c67-436b-9b5c-0ef4baf924a8"
      },
      "source": [
        "for idx_v, version in enumerate(meta_features_sets):\n",
        "  for idx_p, partition in enumerate(version):\n",
        "    meta_features_dict = {'dataset.name' : 'mnist'}\n",
        "    \n",
        "    for i in range(1, len(partition[0])):\n",
        "      mtf_key, mtf_value = str(partition[0][i]), partition[1][i]\n",
        "      meta_features_dict[mtf_key] = mtf_value\n",
        "\n",
        "    df = pd.DataFrame(data=meta_features_dict, index=[0])\n",
        "    #mnist_metafeatures_train_v1, mnist_metafeatures_test_v1, mnist_metafeatures_whole_v1, cifar_metafeatures_train_v1...\n",
        "    csv_name = meta_features_dict.get('dataset.name') + \"_metafeatures_\" + (\"train\" if (idx_p == 0) else \"test\" if (idx_p == 1) else \"whole\") + \"_v\" + str(idx_v + 1)\n",
        "    df.to_csv(csv_name + \".csv\", index=False)\n",
        "\n",
        "    print_meta_features_dict(meta_features_dict)"
      ],
      "execution_count": 54,
      "outputs": [
        {
          "output_type": "stream",
          "text": [
            "\n",
            "number of meta-features:  58\n",
            "{'dataset.name': 'mnist', 'attr_ent.sd': 1.3028632, 'attr_to_inst': 0.013066666666666667, 'can_cor.mean': 0.74899924, 'can_cor.sd': 0.123315595, 'class_conc.mean': 0.10027359, 'class_conc.sd': 0.13091528, 'class_ent': 3.3198709267551885, 'cov.mean': 0.040923417, 'cov.sd': 0.11500981, 'eigenvalues.mean': 0.7084394, 'eigenvalues.sd': 3.5118978, 'eq_num_attr': 34.00769883499537, 'freq_class.mean': 0.1, 'freq_class.sd': 0.0056584203, 'gravity': 15.682315, 'inst_to_attr': 76.53061224489795, 'iq_range.mean': 0.7941754, 'iq_range.sd': 1.260328, 'joint_ent.mean': 4.346847, 'joint_ent.sd': 1.2154177, 'kurtosis.mean': 3925.1074, 'kurtosis.sd': 12093.466, 'mad.mean': 0.21012574, 'mad.sd': 0.55464107, 'max.mean': 2.3698385, 'max.sd': 1.034244, 'mean.mean': 5.459299e-05, 'mean.sd': 0.54031926, 'median.mean': -0.27016422, 'median.sd': 0.41897386, 'min.mean': -0.42401934, 'min.sd': 0.0, 'mut_inf.mean': 0.09762116, 'mut_inf.sd': 0.102586, 'nr_attr': 784, 'nr_bin': 17, 'nr_class': 10, 'nr_cor_attr': 0.007587901060807465, 'nr_disc': 9, 'nr_inst': 60000, 'nr_norm': 136, 'nr_num': 784, 'nr_outliers': 503, 'ns_ratio': 10.520019248451849, 'range.mean': 2.7938576, 'range.sd': 1.034244, 'sd.mean': 0.6271229, 'sd.sd': 0.5617462, 'skewness.mean': 26.904133, 'skewness.sd': 55.51465, 'sparsity.mean': 0.11740938, 'sparsity.sd': 0.2846902, 't_mean.mean': -0.14730538, 't_mean.sd': 0.48931906, 'var.mean': 0.7084394, 'var.sd': 0.806414, 'w_lambda': 0.0002124981038784846}\n",
            "\n",
            "number of meta-features:  58\n",
            "{'dataset.name': 'mnist', 'attr_ent.sd': 1.1747078, 'attr_to_inst': 0.0784, 'can_cor.mean': 0.77511424, 'can_cor.sd': 0.10916385, 'class_conc.mean': 0.13889559, 'class_conc.sd': 0.15881084, 'class_ent': 3.3194225261208263, 'cov.mean': 0.041872438, 'cov.sd': 0.1180624, 'eigenvalues.mean': 0.7101542, 'eigenvalues.sd': 3.600919, 'eq_num_attr': 32.230174443668005, 'freq_class.mean': 0.1, 'freq_class.sd': 0.0062398366, 'gravity': 16.27751, 'inst_to_attr': 12.755102040816327, 'iq_range.mean': 0.8070048, 'iq_range.sd': 1.2754443, 'joint_ent.mean': 4.222079, 'joint_ent.sd': 1.0808562, 'kurtosis.mean': 760.0972, 'kurtosis.sd': 2119.3557, 'mad.mean': 0.2246035, 'mad.sd': 0.5752846, 'max.mean': 2.2053008, 'max.sd': 1.2121569, 'mean.mean': 0.006072385, 'mean.sd': 0.55296147, 'median.mean': -0.25312603, 'median.sd': 0.4549783, 'min.mean': -0.42401934, 'min.sd': 0.0, 'mut_inf.mean': 0.10299114, 'mut_inf.sd': 0.109700315, 'nr_attr': 784, 'nr_bin': 19, 'nr_class': 10, 'nr_cor_attr': 0.007773607527302108, 'nr_disc': 9, 'nr_inst': 10000, 'nr_norm': 135, 'nr_num': 784, 'nr_outliers': 453, 'ns_ratio': 8.76440157402169, 'range.mean': 2.6293201, 'range.sd': 1.2121569, 'sd.mean': 0.6245487, 'sd.sd': 0.5661288, 'skewness.mean': 12.954124, 'skewness.sd': 23.83763, 'sparsity.mean': 0.18372633, 'sparsity.sd': 0.35280004, 't_mean.mean': -0.13535869, 't_mean.sd': 0.50971645, 'var.mean': 0.71015406, 'var.sd': 0.81492585, 'w_lambda': 9.393754475834726e-05}\n",
            "\n",
            "number of meta-features:  58\n",
            "{'dataset.name': 'mnist', 'attr_ent.sd': 1.3135469, 'attr_to_inst': 0.0112, 'can_cor.mean': 0.7492934, 'can_cor.sd': 0.12286309, 'class_conc.mean': 0.09878312, 'class_conc.sd': 0.12949182, 'class_ent': 3.319837025403414, 'cov.mean': 0.04101641, 'cov.sd': 0.11539139, 'eigenvalues.mean': 0.70875365, 'eigenvalues.sd': 3.5228317, 'eq_num_attr': 33.876050133048835, 'freq_class.mean': 0.099999994, 'freq_class.sd': 0.005704511, 'gravity': 15.7606125, 'inst_to_attr': 89.28571428571429, 'iq_range.mean': 0.7964036, 'iq_range.sd': 1.2628525, 'joint_ent.mean': 4.3553143, 'joint_ent.sd': 1.2256087, 'kurtosis.mean': 4488.2056, 'kurtosis.sd': 13918.756, 'mad.mean': 0.21238829, 'mad.sd': 0.5579546, 'max.mean': 2.3819656, 'max.sd': 1.026271, 'mean.mean': 0.0009142817, 'mean.sd': 0.5420741, 'median.mean': -0.26787513, 'median.sd': 0.42357266, 'min.mean': -0.42401934, 'min.sd': 0.0, 'mut_inf.mean': 0.097999536, 'mut_inf.sd': 0.103170656, 'nr_attr': 784, 'nr_bin': 19, 'nr_class': 10, 'nr_cor_attr': 0.007591159068991582, 'nr_disc': 9, 'nr_inst': 70000, 'nr_norm': 136, 'nr_num': 784, 'nr_outliers': 505, 'ns_ratio': 10.566146753703807, 'range.mean': 2.8059847, 'range.sd': 1.0262709, 'sd.mean': 0.6269222, 'sd.sd': 0.5622503, 'skewness.mean': 28.501474, 'skewness.sd': 59.465687, 'sparsity.mean': 0.114609584, 'sparsity.sd': 0.2815891, 't_mean.mean': -0.14562768, 't_mean.sd': 0.49212295, 'var.mean': 0.70875365, 'var.sd': 0.80766517, 'w_lambda': 0.00021212336621935173}\n",
            "\n",
            "number of meta-features:  37\n",
            "{'dataset.name': 'mnist', 'attr_to_inst': 0.013066666666666667, 'can_cor.mean': 0.74899924, 'class_conc.mean': 0.10027359, 'class_ent': 3.3198709267551885, 'cov.mean': 0.040923417, 'eigenvalues.mean': 0.7084394, 'eq_num_attr': 34.00769883499537, 'freq_class.mean': 0.1, 'gravity': 15.682315, 'inst_to_attr': 76.53061224489795, 'iq_range.mean': 0.7941754, 'joint_ent.mean': 4.346847, 'kurtosis.mean': 3925.1074, 'mad.mean': 0.21012574, 'max.mean': 2.3698385, 'mean.mean': 5.459299e-05, 'median.mean': -0.27016422, 'min.mean': -0.42401934, 'mut_inf.mean': 0.09762116, 'nr_attr': 784, 'nr_bin': 17, 'nr_class': 10, 'nr_cor_attr': 0.007587901060807465, 'nr_disc': 9, 'nr_inst': 60000, 'nr_norm': 136, 'nr_num': 784, 'nr_outliers': 503, 'ns_ratio': 10.520019248451849, 'range.mean': 2.7938576, 'sd.mean': 0.6271229, 'skewness.mean': 26.904133, 'sparsity.mean': 0.11740938, 't_mean.mean': -0.14730538, 'var.mean': 0.7084394, 'w_lambda': 0.0002124981038784846}\n",
            "\n",
            "number of meta-features:  37\n",
            "{'dataset.name': 'mnist', 'attr_to_inst': 0.0784, 'can_cor.mean': 0.77511424, 'class_conc.mean': 0.13889559, 'class_ent': 3.3194225261208263, 'cov.mean': 0.041872438, 'eigenvalues.mean': 0.7101542, 'eq_num_attr': 32.230174443668005, 'freq_class.mean': 0.1, 'gravity': 16.27751, 'inst_to_attr': 12.755102040816327, 'iq_range.mean': 0.8070048, 'joint_ent.mean': 4.222079, 'kurtosis.mean': 760.0972, 'mad.mean': 0.2246035, 'max.mean': 2.2053008, 'mean.mean': 0.006072385, 'median.mean': -0.25312603, 'min.mean': -0.42401934, 'mut_inf.mean': 0.10299114, 'nr_attr': 784, 'nr_bin': 19, 'nr_class': 10, 'nr_cor_attr': 0.007773607527302108, 'nr_disc': 9, 'nr_inst': 10000, 'nr_norm': 135, 'nr_num': 784, 'nr_outliers': 453, 'ns_ratio': 8.76440157402169, 'range.mean': 2.6293201, 'sd.mean': 0.6245487, 'skewness.mean': 12.954124, 'sparsity.mean': 0.18372633, 't_mean.mean': -0.13535869, 'var.mean': 0.71015406, 'w_lambda': 9.393754475834726e-05}\n",
            "\n",
            "number of meta-features:  37\n",
            "{'dataset.name': 'mnist', 'attr_to_inst': 0.0112, 'can_cor.mean': 0.7492934, 'class_conc.mean': 0.09878312, 'class_ent': 3.319837025403414, 'cov.mean': 0.04101641, 'eigenvalues.mean': 0.70875365, 'eq_num_attr': 33.876050133048835, 'freq_class.mean': 0.099999994, 'gravity': 15.7606125, 'inst_to_attr': 89.28571428571429, 'iq_range.mean': 0.7964036, 'joint_ent.mean': 4.3553143, 'kurtosis.mean': 4488.2056, 'mad.mean': 0.21238829, 'max.mean': 2.3819656, 'mean.mean': 0.0009142817, 'median.mean': -0.26787513, 'min.mean': -0.42401934, 'mut_inf.mean': 0.097999536, 'nr_attr': 784, 'nr_bin': 19, 'nr_class': 10, 'nr_cor_attr': 0.007591159068991582, 'nr_disc': 9, 'nr_inst': 70000, 'nr_norm': 136, 'nr_num': 784, 'nr_outliers': 505, 'ns_ratio': 10.566146753703807, 'range.mean': 2.8059847, 'sd.mean': 0.6269222, 'skewness.mean': 28.501474, 'sparsity.mean': 0.114609584, 't_mean.mean': -0.14562768, 'var.mean': 0.70875365, 'w_lambda': 0.00021212336621935173}\n",
            "\n",
            "number of meta-features:  184\n",
            "{'dataset.name': 'mnist', 'attr_ent.max': 3.7552204, 'attr_ent.mean': 1.1245977, 'attr_ent.median': 0.3673747, 'attr_ent.min': 0.0, 'attr_ent.sd': 1.3028632, 'attr_ent.skewness': 0.7247737138293365, 'attr_ent.var': 1.6974527, 'attr_to_inst': 0.013066666666666667, 'can_cor.kurtosis': -1.5673614970210135, 'can_cor.max': 0.89137584, 'can_cor.mean': 0.74899924, 'can_cor.median': 0.7767307, 'can_cor.min': 0.5497003, 'can_cor.sd': 0.123315595, 'can_cor.skewness': -0.3275294162436698, 'can_cor.var': 0.0152067365, 'class_conc.kurtosis': 4.516811979214058, 'class_conc.max': 0.5, 'class_conc.mean': 0.10027359, 'class_conc.median': 0.0682047, 'class_conc.min': -0.0059036855, 'class_conc.sd': 0.13091528, 'class_conc.skewness': 2.317613334986102, 'class_conc.var': 0.01713881, 'class_ent': 3.3198709267551885, 'cov.kurtosis': 51.76484872220664, 'cov.max': 1.7258298, 'cov.mean': 0.040923417, 'cov.median': 0.0007669444, 'cov.min': 0.0, 'cov.sd': 0.11500981, 'cov.skewness': 6.027504074582596, 'cov.var': 0.013227256, 'eigenvalues.kurtosis': 108.46591374925787, 'eigenvalues.max': 53.901302, 'eigenvalues.mean': 0.7084394, 'eigenvalues.median': 0.03651227, 'eigenvalues.min': -6.005203e-17, 'eigenvalues.sd': 3.5118978, 'eigenvalues.skewness': 9.496104675194347, 'eigenvalues.var': 12.3334255, 'eq_num_attr': 34.00769883499537, 'freq_class.kurtosis': 0.17588395156277992, 'freq_class.max': 0.11236667, 'freq_class.mean': 0.1, 'freq_class.median': 0.09893334, 'freq_class.min': 0.09035, 'freq_class.sd': 0.0056584203, 'freq_class.skewness': 0.5795795130191003, 'freq_class.var': 3.201772e-05, 'gravity': 15.682315, 'inst_to_attr': 76.53061224489795, 'iq_range.kurtosis': -0.6525355298864044, 'iq_range.max': 3.2201614, 'iq_range.mean': 0.7941754, 'iq_range.median': 0.0, 'iq_range.min': 0.0, 'iq_range.sd': 1.260328, 'iq_range.skewness': 1.0923131444531724, 'iq_range.var': 1.588427, 'joint_ent.kurtosis': -1.0279632319940535, 'joint_ent.max': 6.9257407, 'joint_ent.mean': 4.346847, 'joint_ent.median': 3.620523, 'joint_ent.min': 3.3198712, 'joint_ent.sd': 1.2154177, 'joint_ent.skewness': 0.7716145628911664, 'joint_ent.var': 1.4772402, 'kurtosis.kurtosis': 12.975701756332413, 'kurtosis.max': 59993.066, 'kurtosis.mean': 3925.1074, 'kurtosis.median': 9.038927, 'kurtosis.min': -3.0, 'kurtosis.sd': 12093.466, 'kurtosis.skewness': 3.6879279136022163, 'kurtosis.var': 146251920.0, 'mad.kurtosis': 6.056298290025632, 'mad.max': 2.3776705, 'mad.mean': 0.21012574, 'mad.median': 0.0, 'mad.min': 0.0, 'mad.sd': 0.55464107, 'mad.skewness': 2.6943156927086154, 'mad.var': 0.30762672, 'max.kurtosis': 2.513295620221702, 'max.max': 2.821598, 'max.mean': 2.3698385, 'max.median': 2.821598, 'max.min': -0.42401934, 'max.sd': 1.034244, 'max.skewness': -2.0588309475142306, 'max.var': 1.0696604, 'mean.kurtosis': -0.5697196468730552, 'mean.max': 1.3522065, 'mean.mean': 5.459299e-05, 'mean.median': -0.33210653, 'mean.min': -0.42401934, 'mean.sd': 0.54031926, 'mean.skewness': 0.9715249518967154, 'mean.var': 0.29194492, 'median.kurtosis': 7.801181623339337, 'median.max': 1.7651814, 'median.mean': -0.27016422, 'median.median': -0.42401934, 'median.min': -0.42401934, 'median.sd': 0.41897386, 'median.skewness': 2.9288841992165806, 'median.var': 0.17553909, 'min.kurtosis': -3.0, 'min.max': -0.42401934, 'min.mean': -0.42401934, 'min.median': -0.42401934, 'min.min': -0.42401934, 'min.sd': 0.0, 'min.skewness': 0.0, 'min.var': 0.0, 'mut_inf.kurtosis': -0.6202928066683295, 'mut_inf.max': 0.40320152, 'mut_inf.mean': 0.09762116, 'mut_inf.median': 0.06119942, 'mut_inf.min': -1.8812723e-07, 'mut_inf.sd': 0.102586, 'mut_inf.skewness': 0.7646846170267777, 'mut_inf.var': 0.010523887, 'nr_attr': 784, 'nr_bin': 17, 'nr_class': 10, 'nr_cor_attr': 0.007587901060807465, 'nr_disc': 9, 'nr_inst': 60000, 'nr_norm': 136, 'nr_num': 784, 'nr_outliers': 503, 'ns_ratio': 10.520019248451849, 'range.kurtosis': 2.5132935364586855, 'range.max': 3.2456174, 'range.mean': 2.7938576, 'range.median': 3.2456174, 'range.min': 0.0, 'range.sd': 1.034244, 'range.skewness': -2.058830233626531, 'range.var': 1.0696604, 'sd.kurtosis': -1.6168868262827636, 'sd.max': 1.4486146, 'sd.mean': 0.6271229, 'sd.median': 0.46932933, 'sd.min': 0.0, 'sd.sd': 0.5617462, 'sd.skewness': 0.2592699132801835, 'sd.var': 0.31555876, 'skewness.kurtosis': 6.6885951461580895, 'skewness.max': 244.93692, 'skewness.mean': 26.904133, 'skewness.median': 3.2254944, 'skewness.min': -0.22839628, 'skewness.sd': 55.51465, 'skewness.skewness': 2.7072184989945467, 'skewness.var': 3081.8762, 'sparsity.kurtosis': 4.9914156338236895, 'sparsity.max': 1.0, 'sparsity.mean': 0.11740938, 'sparsity.median': 0.0038896482, 'sparsity.min': 0.0038896482, 'sparsity.sd': 0.2846902, 'sparsity.skewness': 2.56116635615844, 'sparsity.var': 0.08104852, 't_mean.kurtosis': 1.2378366678622594, 't_mean.max': 1.4591289, 't_mean.mean': -0.14730538, 't_mean.median': -0.42401934, 't_mean.min': -0.42401934, 't_mean.sd': 0.48931906, 't_mean.skewness': 1.6071519392152824, 't_mean.var': 0.23943312, 'var.kurtosis': -1.3775414041087566, 'var.max': 2.0984843, 'var.mean': 0.7084394, 'var.median': 0.22027647, 'var.min': 0.0, 'var.sd': 0.806414, 'var.skewness': 0.605309188049566, 'var.var': 0.65030354, 'w_lambda': 0.0002124981038784846}\n",
            "\n",
            "number of meta-features:  184\n",
            "{'dataset.name': 'mnist', 'attr_ent.max': 3.3531337, 'attr_ent.mean': 1.0056468, 'attr_ent.median': 0.30264306, 'attr_ent.min': 0.0, 'attr_ent.sd': 1.1747078, 'attr_ent.skewness': 0.7446827329822502, 'attr_ent.var': 1.3799384, 'attr_to_inst': 0.0784, 'can_cor.kurtosis': -1.5540625613688193, 'can_cor.max': 0.8991605, 'can_cor.mean': 0.77511424, 'can_cor.median': 0.798482, 'can_cor.min': 0.5979381, 'can_cor.sd': 0.10916385, 'can_cor.skewness': -0.34408539766423535, 'can_cor.var': 0.011916745, 'class_conc.kurtosis': 1.0798305167840185, 'class_conc.max': 0.5, 'class_conc.mean': 0.13889559, 'class_conc.median': 0.089143075, 'class_conc.min': -0.0001309582, 'class_conc.sd': 0.15881084, 'class_conc.skewness': 1.5776544564039772, 'class_conc.var': 0.025220884, 'class_ent': 3.3194225261208263, 'cov.kurtosis': 50.258443842113955, 'cov.max': 1.7370435, 'cov.mean': 0.041872438, 'cov.median': 0.00073078123, 'cov.min': 0.0, 'cov.sd': 0.1180624, 'cov.skewness': 5.9474110822105635, 'cov.var': 0.013938731, 'eigenvalues.kurtosis': 113.39136665870201, 'eigenvalues.max': 55.941452, 'eigenvalues.mean': 0.7101542, 'eigenvalues.median': 0.033504583, 'eigenvalues.min': -3.0055336e-17, 'eigenvalues.sd': 3.600919, 'eigenvalues.skewness': 9.708572884254906, 'eigenvalues.var': 12.966618, 'eq_num_attr': 32.230174443668005, 'freq_class.kurtosis': 0.12480101830885104, 'freq_class.max': 0.1135, 'freq_class.mean': 0.1, 'freq_class.median': 0.09955, 'freq_class.min': 0.0892, 'freq_class.sd': 0.0062398366, 'freq_class.skewness': 0.47400935120723253, 'freq_class.var': 3.893556e-05, 'gravity': 16.27751, 'inst_to_attr': 12.755102040816327, 'iq_range.kurtosis': -0.6914441295316722, 'iq_range.max': 3.2201614, 'iq_range.mean': 0.8070048, 'iq_range.median': 0.0, 'iq_range.min': 0.0, 'iq_range.sd': 1.2754443, 'iq_range.skewness': 1.078317019155019, 'iq_range.var': 1.626758, 'joint_ent.kurtosis': -0.9782618733908826, 'joint_ent.max': 6.5215254, 'joint_ent.mean': 4.222079, 'joint_ent.median': 3.5572991, 'joint_ent.min': 3.3194227, 'joint_ent.sd': 1.0808562, 'joint_ent.skewness': 0.8011467882371945, 'joint_ent.var': 1.1682502, 'kurtosis.kurtosis': 10.64768508225255, 'kurtosis.max': 9993.022, 'kurtosis.mean': 760.0972, 'kurtosis.median': 2.9593978, 'kurtosis.min': -3.0, 'kurtosis.sd': 2119.3557, 'kurtosis.skewness': 3.362780621857711, 'kurtosis.var': 4491669.0, 'mad.kurtosis': 5.1922777305976755, 'mad.max': 2.3776705, 'mad.mean': 0.2246035, 'mad.median': 0.0, 'mad.min': 0.0, 'mad.sd': 0.5752846, 'mad.skewness': 2.5536705353106877, 'mad.var': 0.33095238, 'max.kurtosis': 0.6680874847984892, 'max.max': 2.821598, 'max.mean': 2.2053008, 'max.median': 2.821598, 'max.min': -0.42401934, 'max.sd': 1.2121569, 'max.skewness': -1.5962966818336206, 'max.var': 1.4693245, 'mean.kurtosis': -0.5457935768214215, 'mean.max': 1.3953518, 'mean.mean': 0.006072385, 'mean.median': -0.33577037, 'mean.min': -0.42401934, 'mean.sd': 0.55296147, 'mean.skewness': 0.9849640663171108, 'mean.var': 0.30576637, 'median.kurtosis': 7.075875234557719, 'median.max': 1.9051884, 'median.mean': -0.25312603, 'median.median': -0.42401934, 'median.min': -0.42401934, 'median.sd': 0.4549783, 'median.skewness': 2.8222165268899646, 'median.var': 0.20700525, 'min.kurtosis': -3.0, 'min.max': -0.42401934, 'min.mean': -0.42401934, 'min.median': -0.42401934, 'min.min': -0.42401934, 'min.sd': 0.0, 'min.skewness': 0.0, 'min.var': 0.0, 'mut_inf.kurtosis': -0.624309064718163, 'mut_inf.max': 0.4130343, 'mut_inf.mean': 0.10299114, 'mut_inf.median': 0.06240382, 'mut_inf.min': -1.8817218e-07, 'mut_inf.sd': 0.109700315, 'mut_inf.skewness': 0.7784077397704044, 'mut_inf.var': 0.012034159, 'nr_attr': 784, 'nr_bin': 19, 'nr_class': 10, 'nr_cor_attr': 0.007773607527302108, 'nr_disc': 9, 'nr_inst': 10000, 'nr_norm': 135, 'nr_num': 784, 'nr_outliers': 453, 'ns_ratio': 8.76440157402169, 'range.kurtosis': 0.6680874847984892, 'range.max': 3.2456174, 'range.mean': 2.6293201, 'range.median': 3.2456174, 'range.min': 0.0, 'range.sd': 1.2121569, 'range.skewness': -1.5962966818336206, 'range.var': 1.4693245, 'sd.kurtosis': -1.613724741406926, 'sd.max': 1.4548556, 'sd.mean': 0.6245487, 'sd.median': 0.46071813, 'sd.min': 0.0, 'sd.sd': 0.5661288, 'sd.skewness': 0.2733224654519407, 'sd.var': 0.32050183, 'skewness.kurtosis': 4.982625607214082, 'skewness.max': 99.97016, 'skewness.mean': 12.954124, 'skewness.median': 2.1369433, 'skewness.min': -0.2783249, 'skewness.sd': 23.83763, 'skewness.skewness': 2.3877932551263923, 'skewness.var': 568.23254, 'sparsity.kurtosis': 1.3017333696403073, 'sparsity.max': 1.0, 'sparsity.mean': 0.18372633, 'sparsity.median': 0.0051642573, 'sparsity.min': 0.0038066306, 'sparsity.sd': 0.35280004, 'sparsity.skewness': 1.7605774711586282, 'sparsity.var': 0.124467865, 't_mean.kurtosis': 1.2107364907737512, 't_mean.max': 1.5307311, 't_mean.mean': -0.13535869, 't_mean.median': -0.42401937, 't_mean.min': -0.42401937, 't_mean.sd': 0.50971645, 't_mean.skewness': 1.6018404957475916, 't_mean.var': 0.25981084, 'var.kurtosis': -1.3724387617816165, 'var.max': 2.1166048, 'var.mean': 0.71015406, 'var.median': 0.21229172, 'var.min': 0.0, 'var.sd': 0.81492585, 'var.skewness': 0.61513406751787, 'var.var': 0.6641041, 'w_lambda': 9.393754475834726e-05}\n",
            "\n",
            "number of meta-features:  184\n",
            "{'dataset.name': 'mnist', 'attr_ent.max': 3.7774146, 'attr_ent.mean': 1.133477, 'attr_ent.median': 0.3729779, 'attr_ent.min': 0.0, 'attr_ent.sd': 1.3135469, 'attr_ent.skewness': 0.7232800822894594, 'attr_ent.var': 1.7254056, 'attr_to_inst': 0.0112, 'can_cor.kurtosis': -1.5643985393646889, 'can_cor.max': 0.8905003, 'can_cor.mean': 0.7492934, 'can_cor.median': 0.7771365, 'can_cor.min': 0.55037844, 'can_cor.sd': 0.12286309, 'can_cor.skewness': -0.33048996073853637, 'can_cor.var': 0.01509534, 'class_conc.kurtosis': 4.73019524525164, 'class_conc.max': 0.5, 'class_conc.mean': 0.09878312, 'class_conc.median': 0.067477256, 'class_conc.min': -0.006935806, 'class_conc.sd': 0.12949182, 'class_conc.skewness': 2.351131076378752, 'class_conc.var': 0.016768133, 'class_ent': 3.319837025403414, 'cov.kurtosis': 51.6373792194576, 'cov.max': 1.72745, 'cov.mean': 0.04101641, 'cov.median': 0.00074907456, 'cov.min': 0.0, 'cov.sd': 0.11539139, 'cov.skewness': 6.02156748097529, 'cov.var': 0.013315173, 'eigenvalues.kurtosis': 109.07162963281186, 'eigenvalues.max': 54.155544, 'eigenvalues.mean': 0.70875365, 'eigenvalues.median': 0.036302198, 'eigenvalues.min': -2.0136632e-17, 'eigenvalues.sd': 3.5228317, 'eigenvalues.skewness': 9.522330053733684, 'eigenvalues.var': 12.410343, 'eq_num_attr': 33.876050133048835, 'freq_class.kurtosis': 0.24206865930250698, 'freq_class.max': 0.11252857, 'freq_class.mean': 0.099999994, 'freq_class.median': 0.099007145, 'freq_class.min': 0.09018572, 'freq_class.sd': 0.005704511, 'freq_class.skewness': 0.5725216478243551, 'freq_class.var': 3.2541444e-05, 'gravity': 15.7606125, 'inst_to_attr': 89.28571428571429, 'iq_range.kurtosis': -0.6593619596789617, 'iq_range.max': 3.2201614, 'iq_range.mean': 0.7964036, 'iq_range.median': 0.0, 'iq_range.min': 0.0, 'iq_range.sd': 1.2628525, 'iq_range.skewness': 1.089717210814184, 'iq_range.var': 1.5947964, 'joint_ent.kurtosis': -1.03249448426974, 'joint_ent.max': 6.941306, 'joint_ent.mean': 4.3553143, 'joint_ent.median': 3.6229625, 'joint_ent.min': 3.3198373, 'joint_ent.sd': 1.2256087, 'joint_ent.skewness': 0.769951561494515, 'joint_ent.var': 1.5021166, 'kurtosis.kurtosis': 13.54916672499948, 'kurtosis.max': 69993.06, 'kurtosis.mean': 4488.2056, 'kurtosis.median': 9.374766, 'kurtosis.min': -3.0, 'kurtosis.sd': 13918.756, 'kurtosis.skewness': 3.742398021021017, 'kurtosis.var': 193731760.0, 'mad.kurtosis': 5.925152705771712, 'mad.max': 2.3588, 'mad.mean': 0.21238829, 'mad.median': 0.0, 'mad.min': 0.0, 'mad.sd': 0.5579546, 'mad.skewness': 2.6737362140243195, 'mad.var': 0.31131333, 'max.kurtosis': 2.6985231209081197, 'max.max': 2.821598, 'max.mean': 2.3819656, 'max.median': 2.821598, 'max.min': -0.42401934, 'max.sd': 1.026271, 'max.skewness': -2.1063182813788583, 'max.var': 1.0532322, 'mean.kurtosis': -0.5671133141024454, 'mean.max': 1.3580799, 'mean.mean': 0.0009142817, 'mean.median': -0.33242863, 'mean.min': -0.42401934, 'mean.sd': 0.5420741, 'mean.skewness': 0.9731866444992505, 'mean.var': 0.29384428, 'median.kurtosis': 7.686084760049779, 'median.max': 1.7779094, 'median.mean': -0.26787513, 'median.median': -0.42401934, 'median.min': -0.42401934, 'median.sd': 0.42357266, 'median.skewness': 2.9123319990093437, 'median.var': 0.17941381, 'min.kurtosis': -3.0, 'min.max': -0.42401934, 'min.mean': -0.42401934, 'min.median': -0.42401934, 'min.min': -0.42401934, 'min.sd': 0.0, 'min.skewness': 0.0, 'min.var': 0.0, 'mut_inf.kurtosis': -0.618481698395136, 'mut_inf.max': 0.40462705, 'mut_inf.mean': 0.097999536, 'mut_inf.median': 0.061435543, 'mut_inf.min': -1.8813064e-07, 'mut_inf.sd': 0.103170656, 'mut_inf.skewness': 0.7670823278477921, 'mut_inf.var': 0.010644184, 'nr_attr': 784, 'nr_bin': 19, 'nr_class': 10, 'nr_cor_attr': 0.007591159068991582, 'nr_disc': 9, 'nr_inst': 70000, 'nr_norm': 136, 'nr_num': 784, 'nr_outliers': 505, 'ns_ratio': 10.566146753703807, 'range.kurtosis': 2.6985218333918333, 'range.max': 3.2456174, 'range.mean': 2.8059847, 'range.median': 3.2456174, 'range.min': 0.0, 'range.sd': 1.0262709, 'range.skewness': -2.1063178054537253, 'range.var': 1.053232, 'sd.kurtosis': -1.6164693831887897, 'sd.max': 1.4495348, 'sd.mean': 0.6269222, 'sd.median': 0.46795207, 'sd.min': 0.0, 'sd.sd': 0.5622503, 'sd.skewness': 0.26149370321033755, 'sd.var': 0.3161254, 'skewness.kurtosis': 6.852057431178498, 'skewness.max': 264.56396, 'skewness.mean': 28.501474, 'skewness.median': 3.2778902, 'skewness.min': -0.23548652, 'skewness.sd': 59.465687, 'skewness.skewness': 2.7316741499261137, 'skewness.var': 3536.168, 'sparsity.kurtosis': 5.213162809960828, 'sparsity.max': 1.0, 'sparsity.mean': 0.114609584, 'sparsity.median': 0.0038920199, 'sparsity.min': 0.0038920199, 'sparsity.sd': 0.2815891, 'sparsity.skewness': 2.601736594137275, 'sparsity.var': 0.07929242, 't_mean.kurtosis': 1.232033506085009, 't_mean.max': 1.4688872, 't_mean.mean': -0.14562768, 't_mean.median': -0.42401934, 't_mean.min': -0.42401934, 't_mean.sd': 0.49212295, 't_mean.skewness': 1.6058656325615515, 't_mean.var': 0.24218498, 'var.kurtosis': -1.3769572642790266, 'var.max': 2.101151, 'var.mean': 0.70875365, 'var.median': 0.21898052, 'var.min': 0.0, 'var.sd': 0.80766517, 'var.skewness': 0.6066678948141836, 'var.var': 0.65232307, 'w_lambda': 0.00021212336621935173}\n"
          ],
          "name": "stdout"
        }
      ]
    },
    {
      "cell_type": "markdown",
      "metadata": {
        "id": "7IbUDHmMeI_I",
        "colab_type": "text"
      },
      "source": [
        "# **Debug**"
      ]
    },
    {
      "cell_type": "code",
      "metadata": {
        "id": "xxmITvP7H6bp",
        "colab_type": "code",
        "colab": {}
      },
      "source": [
        "print(\"train batch length: \", len(mnist_batch_train))\n",
        "print(\"train batch X shape: \", mnist_batch_train[0].shape)\n",
        "print(\"train batch X example: \", mnist_batch_train[0])\n",
        "print(\"train batch Y shape: \", mnist_batch_train[1].shape)\n",
        "print(\"train batch Y example: \", mnist_batch_train[1])\n",
        "\n",
        "print(\"\\ntest batch X length: \", len(mnist_batch_test))\n",
        "print(\"test batch X shape: \", mnist_batch_test[0].shape)\n",
        "print(\"test batch X example: \", mnist_batch_test[0])\n",
        "print(\"test batch Y shape: \", mnist_batch_test[1].shape)\n",
        "print(\"test batch Y example: \", mnist_batch_test[1])\n",
        "\n",
        "print(\"\\nwhole_mnist_X length: \", len(whole_mnist_X))\n",
        "print(\"whole_mnist_X shape: \", whole_mnist_X[0].shape)\n",
        "print(\"whole_mnist_X example: \", whole_mnist_X[0])\n",
        "print(\"whole_mnist_Y length: \", len(whole_mnist_Y))\n",
        "print(\"whole_mnist_Y shape: \", whole_mnist_Y[0].shape)\n",
        "print(\"whole_mnist_Y example: \", whole_mnist_Y[0])"
      ],
      "execution_count": 0,
      "outputs": []
    },
    {
      "cell_type": "code",
      "metadata": {
        "id": "nr2a1w6K2g05",
        "colab_type": "code",
        "outputId": "5c629628-25f8-433f-e30d-b82fe7287b24",
        "colab": {
          "base_uri": "https://localhost:8080/",
          "height": 333
        }
      },
      "source": [
        "image_index = 0\n",
        "print(mnist_batch_train[1][image_index]) #label\n",
        "\n",
        "temp = mnist_batch_train[0].numpy()\n",
        "print(temp.shape)\n",
        "temp = temp.reshape((temp.shape[0], temp.shape[2], temp.shape[3]))\n",
        "print(temp.shape)\n",
        "plt.imshow(temp[image_index], cmap='Greys')"
      ],
      "execution_count": 9,
      "outputs": [
        {
          "output_type": "stream",
          "text": [
            "tensor(5)\n",
            "(60000, 1, 28, 28)\n",
            "(60000, 28, 28)\n"
          ],
          "name": "stdout"
        },
        {
          "output_type": "execute_result",
          "data": {
            "text/plain": [
              "<matplotlib.image.AxesImage at 0x7fedcce7aa20>"
            ]
          },
          "metadata": {
            "tags": []
          },
          "execution_count": 9
        },
        {
          "output_type": "display_data",
          "data": {
            "image/png": "[encoded data removed]",
            "text/plain": [
              "<Figure size 432x288 with 1 Axes>"
            ]
          },
          "metadata": {
            "tags": [],
            "needs_background": "light"
          }
        }
      ]
    },
    {
      "cell_type": "code",
      "metadata": {
        "id": "W1x4h5CCfjXC",
        "colab_type": "code",
        "colab": {
          "base_uri": "https://localhost:8080/",
          "height": 367
        },
        "outputId": "131ac1eb-cd9c-4c1d-95b0-f50fee405c91"
      },
      "source": [
        "print(whole_mnist_Y[image_index]) #label\n",
        "temp = whole_mnist_X[0].numpy()\n",
        "print(temp.shape)\n",
        "temp = temp.reshape((temp.shape[0], temp.shape[1], temp.shape[2]))\n",
        "print(temp.shape)\n",
        "plt.imshow(temp[image_index], cmap='Greys')"
      ],
      "execution_count": 12,
      "outputs": [
        {
          "output_type": "stream",
          "text": [
            "\n",
            "\n",
            " tensor(5)\n",
            "(1, 28, 28)\n",
            "(1, 28, 28)\n"
          ],
          "name": "stdout"
        },
        {
          "output_type": "execute_result",
          "data": {
            "text/plain": [
              "<matplotlib.image.AxesImage at 0x7fedcd620a58>"
            ]
          },
          "metadata": {
            "tags": []
          },
          "execution_count": 12
        },
        {
          "output_type": "display_data",
          "data": {
            "image/png": "[encoded data removed]",
            "text/plain": [
              "<Figure size 432x288 with 1 Axes>"
            ]
          },
          "metadata": {
            "tags": [],
            "needs_background": "light"
          }
        }
      ]
    },
    {
      "cell_type": "code",
      "metadata": {
        "id": "mnXjZ-XnfxLa",
        "colab_type": "code",
        "colab": {}
      },
      "source": [
        "print(\"train batch length: \", len(np_mnist_batch_train_X))\n",
        "print(\"train batch X shape: \", np_mnist_batch_train_X.shape)\n",
        "print(\"train batch X example: \", np_mnist_batch_train_X[0])\n",
        "print(\"train batch Y shape: \", np_mnist_batch_train_Y.shape)\n",
        "print(\"train batch Y example: \", np_mnist_batch_train_Y[0])\n",
        "\n",
        "print(\"\\ntest batch X length: \", len(np_mnist_batch_test_X))\n",
        "print(\"test batch X shape: \", np_mnist_batch_test_X.shape)\n",
        "print(\"test batch X example: \", np_mnist_batch_test_X[0])\n",
        "print(\"test batch Y shape: \", np_mnist_batch_test_Y.shape)\n",
        "print(\"test batch Y example: \", np_mnist_batch_test_Y[0])\n",
        "\n",
        "print(\"\\nnp_whole_mnist_X length: \", len(np_whole_mnist_X))\n",
        "print(\"np_whole_mnist_X shape: \", np_whole_mnist_X.shape)\n",
        "print(\"np_whole_mnist_X example: \", np_whole_mnist_X[0])\n",
        "print(\"np_whole_mnist_Y length: \", len(np_whole_mnist_Y))\n",
        "print(\"np_whole_mnist_Y shape: \", np_whole_mnist_Y.shape)\n",
        "print(\"np_whole_mnist_Y example: \", np_whole_mnist_Y[0])"
      ],
      "execution_count": 0,
      "outputs": []
    }
  ]
}
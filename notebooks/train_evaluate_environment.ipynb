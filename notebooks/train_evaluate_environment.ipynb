{
  "nbformat": 4,
  "nbformat_minor": 0,
  "metadata": {
    "colab": {
      "name": "train_evaluate_environment.ipynb",
      "provenance": [],
      "collapsed_sections": [],
      "include_colab_link": true
    },
    "kernelspec": {
      "name": "python3",
      "display_name": "Python 3"
    }
  },
  "cells": [
    {
      "cell_type": "markdown",
      "metadata": {
        "id": "view-in-github",
        "colab_type": "text"
      },
      "source": [
        "<a href=\"https://colab.research.google.com/github/geantrindade/ConvNet-Performance-Prediction/blob/master/notebooks/train_evaluate_environment.ipynb\" target=\"_parent\"><img src=\"https://colab.research.google.com/assets/colab-badge.svg\" alt=\"Open In Colab\"/></a>"
      ]
    },
    {
      "cell_type": "markdown",
      "metadata": {
        "id": "yE0x6cqNowm_",
        "colab_type": "text"
      },
      "source": [
        "# Imports"
      ]
    },
    {
      "cell_type": "code",
      "metadata": {
        "id": "zretL7zzoVVG",
        "colab_type": "code",
        "colab": {}
      },
      "source": [
        "import warnings\n",
        "warnings.simplefilter(action='ignore', category=FutureWarning)\n",
        "\n",
        "import os\n",
        "import numpy as np\n",
        "import pandas as pd\n",
        "import matplotlib.pyplot as plt\n",
        "\n",
        "from sklearn.linear_model import LogisticRegression\n",
        "from sklearn.neighbors import KNeighborsRegressor\n",
        "# Can we use naive bayes as a regressor?\n",
        "from sklearn.tree import DecisionTreeRegressor\n",
        "from sklearn.svm import SVR\n",
        "from sklearn.neural_network import MLPRegressor\n",
        "from sklearn.ensemble import RandomForestRegressor\n",
        "from xgboost import XGBRegressor\n",
        "\n",
        "from sklearn import preprocessing\n",
        "from sklearn.metrics import mean_absolute_error, mean_squared_error, r2_score\n",
        "from sklearn.model_selection import LeaveOneOut # There is also a LeaveOneOut class in sklearn.cross_validation (what's the difference?)\n",
        "from sklearn.model_selection import train_test_split"
      ],
      "execution_count": 0,
      "outputs": []
    },
    {
      "cell_type": "markdown",
      "metadata": {
        "id": "Kaw-tF-ZqgB7",
        "colab_type": "text"
      },
      "source": [
        "# Load and split dataset"
      ]
    },
    {
      "cell_type": "code",
      "metadata": {
        "id": "OLeM883GqooY",
        "colab_type": "code",
        "colab": {}
      },
      "source": [
        "def load_split(dataset_path, test_ratio):\n",
        "  # No meta-dataset teremos apenas 1 output (ex accuracy) \n",
        "  # ou múltiplos outputs? (multi-regressão?)\n",
        "  df = pd.read_csv(dataset_path, header=None)\n",
        "  X = df.iloc[:,:-1].values\n",
        "  y = df.iloc[:,-1].values\n",
        "\n",
        "  # Is it necessary to scale the data?\n",
        "  min_max_scaler = preprocessing.MinMaxScaler()\n",
        "  X = min_max_scaler.fit_transform(X)\n",
        "\n",
        "  X_train, X_test, y_train, y_test = train_test_split(X, y, test_size = test_ratio, random_state=1)\n",
        "\n",
        "  # I used LeaveOneOut only as a test, I guess we should use train_test_split\n",
        "  # splitter = LeaveOneOut()\n",
        "  # for train_indices, test_indices in splitter.split(X):\n",
        "  #   X_train, y_train = X[train_indices], y[train_indices]\n",
        "  #   X_test, y_test = X[test_indices], y[test_indices]\n",
        "  \n",
        "  return X_train, y_train, X_test, y_test"
      ],
      "execution_count": 0,
      "outputs": []
    },
    {
      "cell_type": "markdown",
      "metadata": {
        "id": "twbMUmgvQ9EE",
        "colab_type": "text"
      },
      "source": [
        "# Hyperparameters"
      ]
    },
    {
      "cell_type": "markdown",
      "metadata": {
        "id": "MDdxXj0xpakI",
        "colab_type": "text"
      },
      "source": [
        "### Logistic regression"
      ]
    },
    {
      "cell_type": "code",
      "metadata": {
        "id": "BTgPFzeVubZD",
        "colab_type": "code",
        "colab": {}
      },
      "source": [
        "lr_params = {'penalty' : 'l2',          # options: l1’, ‘l2’, ‘elasticnet’, ‘none’\n",
        "             'dual' : True,             # Prefer dual=False when n_samples > n_features (only with l2 and liblinear)\n",
        "             'tol' : 1e-4,              # Tolerance for stopping criteria\n",
        "             'C' : 1.0,                 # Smaller values -> Stronger regularization\n",
        "             'fit_intercept' : True,\n",
        "             'intercept_scaling' : 1,\n",
        "             'class_weight' : None,\n",
        "             'random_state' : 1,\n",
        "             'solver' : 'liblinear',    # ‘newton-cg’, ‘lbfgs’, ‘liblinear’, ‘sag’, ‘saga’\n",
        "             'max_iter' : 100,\n",
        "             'multi_class' : 'auto',    # ‘auto’, ‘ovr’, ‘multinomial’\n",
        "             'verbose' : 0,\n",
        "             'warm_start' : False}"
      ],
      "execution_count": 0,
      "outputs": []
    },
    {
      "cell_type": "markdown",
      "metadata": {
        "id": "hOVraxbiaBby",
        "colab_type": "text"
      },
      "source": [
        "### KNeighborsRegressor"
      ]
    },
    {
      "cell_type": "code",
      "metadata": {
        "id": "iQCxGW_JMeIi",
        "colab_type": "code",
        "colab": {}
      },
      "source": [
        "knr_params = {'n_neighbors' : 5,\n",
        "              'weights' : 'uniform',     # Weight function used in prediction\n",
        "              'algorithm' : 'auto',      # Algorithm used to compute nearest neighbors {‘auto’, ‘ball_tree’, ‘kd_tree’, ‘brute’}\n",
        "              'leaf_size' : 30,          # Leaf size passed to ball_tree or kd_tree\n",
        "              'p' : 2,                   # Power parameter for Minkowski metric\n",
        "              'metric' : 'minkowski',\n",
        "              'metric_params' : None,\n",
        "              'n_jobs' : None}           # Number of parallel jobs to run for neighbors search"
      ],
      "execution_count": 0,
      "outputs": []
    },
    {
      "cell_type": "markdown",
      "metadata": {
        "id": "IkRv1cOxO025",
        "colab_type": "text"
      },
      "source": [
        "### DecisionTreeRegressor"
      ]
    },
    {
      "cell_type": "code",
      "metadata": {
        "id": "I3UmF2__O0Fu",
        "colab_type": "code",
        "colab": {}
      },
      "source": [
        "dtr_params = {'criterion' : 'mse',                 # {“mse”, “friedman_mse”, “mae”}\n",
        "              'splitter' : 'best',                 # {“best”, “random”}\n",
        "              'max_depth' : None,\n",
        "              'min_samples_split' : 2,                   # Min number of samples to split a node\n",
        "              'min_samples_leaf' : 1,              # The minimum number of samples required to be at a leaf node\n",
        "              'min_weight_fraction_leaf' : 0.0,\n",
        "              'max_features' : None,               # int, float or {“auto”, “sqrt”, “log2”}\n",
        "              'random_state' : None,\n",
        "              'max_leaf_nodes' : None,             # Grow a tree with max_leaf_nodes in best-first fashion\n",
        "              'min_impurity_decrease' : 0.0,\n",
        "              'min_impurity_split' : 1e-7,         # Threshold for early stopping in tree growth\n",
        "              'presort' : 'deprecated',\n",
        "              'ccp_alpha' : 0.0}                   # Complexity parameter used for Minimal Cost-Complexity Pruning"
      ],
      "execution_count": 0,
      "outputs": []
    },
    {
      "cell_type": "markdown",
      "metadata": {
        "id": "o9nhurqwX23P",
        "colab_type": "text"
      },
      "source": [
        "### SVR (SupportVectorRegressor)"
      ]
    },
    {
      "cell_type": "code",
      "metadata": {
        "id": "VhIU9_40a0qe",
        "colab_type": "code",
        "colab": {}
      },
      "source": [
        "svr_params = {'kernel' : 'rbf',      # {'linear','poly','rbf','sigmoid','precomputed'}\n",
        "              'degree' : 3,          # only used for 'poly' kernel\n",
        "              'gamma' : 'scale',     # used for 'poly','rbf' and 'sigmoid' {'scale', 'auto'}\n",
        "              'coef0' : 0.0,         #Independent term in kernel function (‘poly’ and ‘sigmoid’)\n",
        "              'tol' : 1e-3,\n",
        "              'C' : 1.0,             # Regularization parameter\n",
        "              'epsilon' : 0.1,\n",
        "              'shrinking' : True,\n",
        "              'verbose' : False,\n",
        "              'max_iter' : -1}"
      ],
      "execution_count": 0,
      "outputs": []
    },
    {
      "cell_type": "markdown",
      "metadata": {
        "id": "VNy1nFVcdHRp",
        "colab_type": "text"
      },
      "source": [
        "### MLPRegressor"
      ]
    },
    {
      "cell_type": "code",
      "metadata": {
        "id": "2Q4gHrGodJzW",
        "colab_type": "code",
        "colab": {}
      },
      "source": [
        "mlpr_params = {'hidden_layer_sizes' : (100,),\n",
        "               'activation' : 'relu',            # {‘identity’, ‘logistic’, ‘tanh’, ‘relu’}\n",
        "               'solver' : 'adam',                # {‘lbfgs’, ‘sgd’, ‘adam’}\n",
        "               'alpha' : 0.0001,                 # L2 regularization param\n",
        "               'batch_size' : 'auto',            # ex: batch_size=min(200, n_samples)\n",
        "               'learning_rate' : 'constant',     # {‘constant’, ‘invscaling’, ‘adaptive’}\n",
        "               'learning_rate_init' : 0.001,\n",
        "               'power_t' : 0.5,                  # The exponent for inverse scaling learning rate\n",
        "               'max_iter' : 500,\n",
        "               'shuffle' : True,\n",
        "               'random_state' : None,\n",
        "               'tol' : 1e-4,\n",
        "               'verbose' : False,\n",
        "               'warm_start' : False,\n",
        "               'momentum' : 0.9,\n",
        "               'nesterovs_momentum' : True,\n",
        "               'early_stopping' : False,\n",
        "               'validation_fraction' : 0.1,      # Only used if early_stopping is True\n",
        "               'beta_1' : 0.9,                   # Exponential decay rate for estimates of first moment vector in adam\n",
        "               'beta_2' : 0.999,                 # Exponential decay rate for estimates of second moment vector in adam\n",
        "               'epsilon' : 1e-8,                 # Value for numerical stability in adam.\n",
        "               'n_iter_no_change' : 10,\n",
        "               'max_fun' : 15000}"
      ],
      "execution_count": 0,
      "outputs": []
    },
    {
      "cell_type": "markdown",
      "metadata": {
        "id": "u7z61C8MhVhQ",
        "colab_type": "text"
      },
      "source": [
        "### RandomForestRegressor"
      ]
    },
    {
      "cell_type": "code",
      "metadata": {
        "id": "sHaQ0w6shUvX",
        "colab_type": "code",
        "colab": {}
      },
      "source": [
        "rfr_params = {'n_estimators' : 10,                # Number of trees in the forest\n",
        "              'criterion' : 'mse',                # Function to measure the quality of a split\n",
        "              'max_depth' : None,                 # Max depth of the tree\n",
        "              'min_samples_split' : 2,            # Min number of samples to split a node\n",
        "              'min_samples_leaf' : 1,             # Min nb of sambles to be at leaf node\n",
        "              'min_weight_fraction_leaf' : 0.0,\n",
        "              'max_features' : 'auto',\n",
        "              'max_leaf_nodes' : None,\n",
        "              'min_impurity_decrease' : 0.0,\n",
        "              'min_impurity_split' : 1e-7,\n",
        "              'bootstrap' : True,\n",
        "              'oob_score' : False,\n",
        "              'n_jobs' : None,                  # Nb of jobs to run in parallel (fit, preditc, ...)\n",
        "              'random_state' : None,\n",
        "              'verbose' : 0,\n",
        "              'warm_start' : False,\n",
        "              'ccp_alpha' : 0.0,                # Complexity parameter used for Minimal Cost-Complexity Pruning\n",
        "              'max_samples' : None}"
      ],
      "execution_count": 0,
      "outputs": []
    },
    {
      "cell_type": "markdown",
      "metadata": {
        "id": "p52cUhHGWxGF",
        "colab_type": "text"
      },
      "source": [
        "### XGBRegressor"
      ]
    },
    {
      "cell_type": "code",
      "metadata": {
        "id": "er8uSj54U7GR",
        "colab_type": "code",
        "colab": {}
      },
      "source": [
        "xgbr_params = {'base_score': 0.5,             # Initial prediction for all instances (global bias)\n",
        "               'booster': 'gbtree',           # {'gbtree', 'gblinear', 'dart'}\n",
        "               'colsample_bylevel': 1,        # Subsample ratio of columns for each level\n",
        "               'colsample_bynode': 1,         # Subsample ratio for columns for each split\n",
        "               'colsample_bytree': 1,         # Subsample ratio of columns when constructing each tree\n",
        "               'gamma': 0,                    # Minimum loss reduction to make a further partition\n",
        "               'importance_type': 'gain',     # {'gain', 'weight', 'cover', 'total_gain', 'total_cover'}\n",
        "               'learning_rate': 0.1,\n",
        "               'max_delta_step': 0,           # Max step allowed to each tree's weight estimation to be\n",
        "               'max_depth': 3,\n",
        "               'min_child_weight': 1,\n",
        "               'missing': None,\n",
        "               'n_estimators': 100,\n",
        "               'n_jobs': 1,\n",
        "               'nthread': None,\n",
        "               'objective': 'reg:squarederror',\n",
        "               'random_state': 0,\n",
        "               'reg_alpha': 0,\n",
        "               'reg_lambda': 1,\n",
        "               'scale_pos_weight': 1,\n",
        "               'seed': None,\n",
        "               'silent': None,\n",
        "               'subsample': 1,\n",
        "               'verbosity': 1}"
      ],
      "execution_count": 0,
      "outputs": []
    },
    {
      "cell_type": "markdown",
      "metadata": {
        "id": "hDvntlJjRuuq",
        "colab_type": "text"
      },
      "source": [
        "# Save results"
      ]
    },
    {
      "cell_type": "code",
      "metadata": {
        "id": "WcTCTAA3Rxoe",
        "colab_type": "code",
        "colab": {}
      },
      "source": [
        "def summarizeResults(MAE, MSE, R2, params, model_type):\n",
        "\n",
        "  results = open('modelsResults.txt', 'a')\n",
        "  results.write('\\n\\n' + model_type)\n",
        "  results.write('\\nParameters:')\n",
        "\n",
        "  for key,value in params.items():\n",
        "    results.write('\\n{} = {}'.format(key,value))\n",
        "\n",
        "  results.write('\\n\\nResults:')\n",
        "  results.write('\\nMAE = {}'.format(MAE))\n",
        "  results.write('\\nMSE = {}'.format(MSE))\n",
        "  results.write('\\nR2 = {}'.format(R2))\n",
        "  results.close()"
      ],
      "execution_count": 0,
      "outputs": []
    },
    {
      "cell_type": "markdown",
      "metadata": {
        "id": "yATg0fk1RZ3a",
        "colab_type": "text"
      },
      "source": [
        "# Train, fit, predict and save results"
      ]
    },
    {
      "cell_type": "code",
      "metadata": {
        "id": "GZj0EvBuNXLI",
        "colab_type": "code",
        "colab": {}
      },
      "source": [
        "class MLRegModel():\n",
        "  def __init__(self, X_train, y_train, X_test, y_test, regmodel, params):\n",
        "    self.model = regmodel(**params)\n",
        "    self.model.fit(X_train,y_train)\n",
        "    self.y_pred = self.model.predict(X_test)\n",
        "    self.MAE = mean_absolute_error(y_test, self.y_pred)\n",
        "    self.MSE = MSE = mean_squared_error(y_test, self.y_pred)\n",
        "    self.R2 = r2_score(y_test, self.y_pred)\n",
        "\n",
        "  def get_save_results(self):\n",
        "    summarizeResults(self.MAE, self.MSE, self.R2, self.model.get_params(), type(self.model).__name__)\n",
        "    print('MAE: {} \\nMSE: {} \\nR2: {}'.format(self.MAE, self.MSE, self.R2))\n",
        "\n",
        "# Maybe it's better creating a class instead of a function??\n",
        "#def train_fit(X_train, y_train, X_test, y_test, regmodel, params):\n",
        "#  model = regmodel(**params)\n",
        "#  model.fit(X_train, y_train)\n",
        "#  y_pred = model.predict(X_test)\n",
        "#\n",
        "#  MAE = mean_absolute_error(y_test, y_pred)\n",
        "#  MSE = mean_squared_error(y_test, y_pred)\n",
        "#  R2 = r2_score(y_test, y_pred)\n",
        "#  summarizeResults(MAE, MSE, R2, model.get_params(), type(model).__name__)\n",
        "#  print('MAE: {} \\nMSE: {} \\nR2: {}'.format(MAE, MSE, R2))"
      ],
      "execution_count": 0,
      "outputs": []
    },
    {
      "cell_type": "markdown",
      "metadata": {
        "id": "eJt611WqR19v",
        "colab_type": "text"
      },
      "source": [
        "# Example"
      ]
    },
    {
      "cell_type": "markdown",
      "metadata": {
        "id": "mT706VpcxOtK",
        "colab_type": "text"
      },
      "source": [
        "### Building a fictitious dataset"
      ]
    },
    {
      "cell_type": "code",
      "metadata": {
        "id": "4CgMQvg3ODHk",
        "colab_type": "code",
        "colab": {}
      },
      "source": [
        "df = pd.DataFrame({1:list(range(50)),2:np.multiply(list(range(50)),2).tolist()})\n",
        "X = df.iloc[:,:-1].values\n",
        "y = df.iloc[:,-1].values\n",
        "X_train, X_test, y_train, y_test = train_test_split(X, y, test_size = 0.33, random_state=1)"
      ],
      "execution_count": 0,
      "outputs": []
    },
    {
      "cell_type": "markdown",
      "metadata": {
        "id": "bDIthGt7xtFS",
        "colab_type": "text"
      },
      "source": [
        "### Creating models considering the hyperparameters defined above"
      ]
    },
    {
      "cell_type": "code",
      "metadata": {
        "id": "8fniwqjjcfDU",
        "colab_type": "code",
        "outputId": "c09557ef-7b66-4577-9d58-d2ade2f405ff",
        "colab": {
          "base_uri": "https://localhost:8080/",
          "height": 52
        }
      },
      "source": [
        "LogiReg = MLRegModel(X_train, y_train, X_test, y_test, LogisticRegression, lr_params)\n",
        "KNReg = MLRegModel(X_train, y_train, X_test, y_test, KNeighborsRegressor, knr_params)\n",
        "DTReg = MLRegModel(X_train, y_train, X_test, y_test, DecisionTreeRegressor, dtr_params)\n",
        "SVReg = MLRegModel(X_train, y_train, X_test, y_test, SVR, svr_params)\n",
        "MLayerReg = MLRegModel(X_train, y_train, X_test, y_test, MLPRegressor, mlpr_params)\n",
        "RFReg = MLRegModel(X_train, y_train, X_test, y_test, RandomForestRegressor, rfr_params)\n",
        "XGBReg = MLRegModel(X_train, y_train, X_test, y_test, XGBRegressor, xgbr_params)\n",
        "\n",
        "models = [LogiReg, KNReg, DTReg, SVReg, MLayerReg, RFReg, XGBReg]"
      ],
      "execution_count": 0,
      "outputs": [
        {
          "output_type": "stream",
          "text": [
            "/usr/local/lib/python3.6/dist-packages/sklearn/svm/_base.py:947: ConvergenceWarning: Liblinear failed to converge, increase the number of iterations.\n",
            "  \"the number of iterations.\", ConvergenceWarning)\n"
          ],
          "name": "stderr"
        }
      ]
    },
    {
      "cell_type": "markdown",
      "metadata": {
        "id": "6O_zzhttx_J0",
        "colab_type": "text"
      },
      "source": [
        "### Plotting bar chart to compare the results"
      ]
    },
    {
      "cell_type": "code",
      "metadata": {
        "id": "nj1cuAl0x8_Z",
        "colab_type": "code",
        "outputId": "f0786372-db19-4a55-b3de-944cc6325fcd",
        "colab": {
          "base_uri": "https://localhost:8080/",
          "height": 592
        }
      },
      "source": [
        "barWidth = 0.2\n",
        "\n",
        "bars1 = [regmodel.MAE for regmodel in models]\n",
        "bars2 = [regmodel.MSE for regmodel in models]\n",
        "bars3 = [regmodel.R2 for regmodel in models]\n",
        "\n",
        "r1 = np.arange(len(bars1))\n",
        "r2 = [x + barWidth for x in r1]\n",
        "r3 = [x + barWidth for x in r2]\n",
        "\n",
        "plt.figure(figsize=(20,10))\n",
        "\n",
        "plt.bar(r1, bars1, color = 'grey', width = barWidth, edgecolor = 'white', label = 'MAE')\n",
        "plt.bar(r2, bars2, color = 'darkslategrey', width = barWidth, edgecolor = 'white', label = 'MSE')\n",
        "plt.bar(r3, bars3, color = 'black', width = barWidth, edgecolor = 'white', label = 'R2')\n",
        "\n",
        "plt.yscale('log')\n",
        "plt.ylabel('Logscale value', fontweight='bold')\n",
        "plt.xticks([r + barWidth for r in range(len(bars1))], [type(regmodel.model).__name__ for regmodel in models], fontweight = 'bold')\n",
        "plt.legend(prop = {'size': 20})\n",
        "\n",
        "plt.show()"
      ],
      "execution_count": 0,
      "outputs": [
        {
          "output_type": "display_data",
          "data": {
            "image/png": "[encoded data removed]",
            "text/plain": [
              "<Figure size 1440x720 with 1 Axes>"
            ]
          },
          "metadata": {
            "tags": [],
            "needs_background": "light"
          }
        }
      ]
    }
  ]
}